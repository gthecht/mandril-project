{
 "cells": [
  {
   "cell_type": "markdown",
   "metadata": {},
   "source": [
    "# Mandril with multiple experts, and suboptimal experts"
   ]
  },
  {
   "cell_type": "code",
   "execution_count": 1,
   "metadata": {},
   "outputs": [],
   "source": [
    "from mab.expertTest import ExpertTest"
   ]
  },
  {
   "cell_type": "code",
   "execution_count": 2,
   "metadata": {},
   "outputs": [],
   "source": [
    "paths = {\n",
    "    \"perfect\": \"banditk5n10/perfect\",\n",
    "    \"rand_from_2_best\": \"banditk5n10/rand_from_2_best\",\n",
    "    \"rand_from_3_best\": \"banditk5n10/rand_from_3_best\",\n",
    "}"
   ]
  },
  {
   "cell_type": "code",
   "execution_count": 3,
   "metadata": {},
   "outputs": [],
   "source": [
    "perfect = ExpertTest(paths[\"perfect\"])\n",
    "rand_from_2_best = ExpertTest(paths[\"rand_from_2_best\"])\n",
    "rand_from_3_best = ExpertTest(paths[\"rand_from_3_best\"])"
   ]
  },
  {
   "cell_type": "code",
   "execution_count": 4,
   "metadata": {},
   "outputs": [],
   "source": [
    "def disaply_task(logs, ind):\n",
    "    display(logs[\"tasks\"][ind])\n",
    "    display(logs[\"train_returns\"][ind])\n",
    "    display(logs[\"valid_returns\"][ind])"
   ]
  },
  {
   "cell_type": "code",
   "execution_count": 5,
   "metadata": {},
   "outputs": [
    {
     "data": {
      "text/plain": [
       "(2000,)"
      ]
     },
     "metadata": {},
     "output_type": "display_data"
    },
    {
     "data": {
      "text/plain": [
       "(2000, 10)"
      ]
     },
     "metadata": {},
     "output_type": "display_data"
    },
    {
     "data": {
      "text/plain": [
       "(2000, 10)"
      ]
     },
     "metadata": {},
     "output_type": "display_data"
    },
    {
     "data": {
      "text/plain": [
       "{'mean': array([0.80739044, 0.51450007, 0.19111815, 0.18687478, 0.77252164])}"
      ]
     },
     "metadata": {},
     "output_type": "display_data"
    },
    {
     "data": {
      "text/plain": [
       "array([1., 0., 1., 1., 1., 1., 1., 1., 1., 1.], dtype=float32)"
      ]
     },
     "metadata": {},
     "output_type": "display_data"
    },
    {
     "data": {
      "text/plain": [
       "array([2., 2., 2., 2., 2., 1., 1., 2., 2., 2.], dtype=float32)"
      ]
     },
     "metadata": {},
     "output_type": "display_data"
    },
    {
     "data": {
      "text/plain": [
       "{'mean': array([0.05182789, 0.06952621, 0.51517512, 0.68854365, 0.45962809])}"
      ]
     },
     "metadata": {},
     "output_type": "display_data"
    },
    {
     "data": {
      "text/plain": [
       "array([1., 1., 1., 1., 1., 0., 1., 0., 1., 1.], dtype=float32)"
      ]
     },
     "metadata": {},
     "output_type": "display_data"
    },
    {
     "data": {
      "text/plain": [
       "array([0., 2., 2., 2., 2., 2., 2., 0., 2., 0.], dtype=float32)"
      ]
     },
     "metadata": {},
     "output_type": "display_data"
    },
    {
     "data": {
      "text/plain": [
       "{'mean': array([0.90201124, 0.77526743, 0.17072396, 0.0287679 , 0.88951437])}"
      ]
     },
     "metadata": {},
     "output_type": "display_data"
    },
    {
     "data": {
      "text/plain": [
       "array([1., 1., 1., 1., 1., 0., 1., 1., 1., 1.], dtype=float32)"
      ]
     },
     "metadata": {},
     "output_type": "display_data"
    },
    {
     "data": {
      "text/plain": [
       "array([2., 2., 2., 2., 2., 2., 2., 2., 1., 2.], dtype=float32)"
      ]
     },
     "metadata": {},
     "output_type": "display_data"
    },
    {
     "data": {
      "text/plain": [
       "{'mean': array([0.28384513, 0.04069452, 0.8575478 , 0.31959087, 0.57888191])}"
      ]
     },
     "metadata": {},
     "output_type": "display_data"
    },
    {
     "data": {
      "text/plain": [
       "array([1., 1., 1., 1., 0., 0., 1., 1., 1., 1.], dtype=float32)"
      ]
     },
     "metadata": {},
     "output_type": "display_data"
    },
    {
     "data": {
      "text/plain": [
       "array([1., 1., 2., 1., 2., 1., 2., 1., 2., 2.], dtype=float32)"
      ]
     },
     "metadata": {},
     "output_type": "display_data"
    }
   ],
   "source": [
    "display(perfect.logs[\"tasks\"].shape)\n",
    "display(perfect.logs[\"train_returns\"].shape)\n",
    "display(perfect.logs[\"valid_returns\"].shape)\n",
    "\n",
    "\n",
    "disaply_task(perfect.logs, 0)\n",
    "disaply_task(perfect.logs, 1)\n",
    "disaply_task(perfect.logs, 2)\n",
    "disaply_task(perfect.logs, 101)\n",
    "\n",
    "# display(np.mean(logs[\"train_returns\"],1))\n",
    "# display(np.mean(logs[\"valid_returns\"],1))"
   ]
  },
  {
   "cell_type": "code",
   "execution_count": 6,
   "metadata": {},
   "outputs": [
    {
     "data": {
      "text/plain": [
       "{'mean': array([0.80739044, 0.51450007, 0.19111815, 0.18687478, 0.77252164])}"
      ]
     },
     "metadata": {},
     "output_type": "display_data"
    },
    {
     "data": {
      "text/plain": [
       "array([0., 0., 1., 1., 1., 1., 1., 1., 1., 1.], dtype=float32)"
      ]
     },
     "metadata": {},
     "output_type": "display_data"
    },
    {
     "data": {
      "text/plain": [
       "array([2., 2., 2., 2., 2., 1., 1., 2., 2., 2.], dtype=float32)"
      ]
     },
     "metadata": {},
     "output_type": "display_data"
    },
    {
     "data": {
      "text/plain": [
       "{'mean': array([0.05182789, 0.06952621, 0.51517512, 0.68854365, 0.45962809])}"
      ]
     },
     "metadata": {},
     "output_type": "display_data"
    },
    {
     "data": {
      "text/plain": [
       "array([1., 0., 0., 0., 0., 1., 0., 1., 0., 0.], dtype=float32)"
      ]
     },
     "metadata": {},
     "output_type": "display_data"
    },
    {
     "data": {
      "text/plain": [
       "array([1., 0., 1., 1., 1., 2., 1., 2., 1., 0.], dtype=float32)"
      ]
     },
     "metadata": {},
     "output_type": "display_data"
    },
    {
     "data": {
      "text/plain": [
       "{'mean': array([0.90201124, 0.77526743, 0.17072396, 0.0287679 , 0.88951437])}"
      ]
     },
     "metadata": {},
     "output_type": "display_data"
    },
    {
     "data": {
      "text/plain": [
       "array([1., 1., 1., 1., 1., 1., 1., 1., 1., 1.], dtype=float32)"
      ]
     },
     "metadata": {},
     "output_type": "display_data"
    },
    {
     "data": {
      "text/plain": [
       "array([2., 2., 2., 2., 2., 2., 2., 2., 2., 2.], dtype=float32)"
      ]
     },
     "metadata": {},
     "output_type": "display_data"
    },
    {
     "data": {
      "text/plain": [
       "{'mean': array([0.28384513, 0.04069452, 0.8575478 , 0.31959087, 0.57888191])}"
      ]
     },
     "metadata": {},
     "output_type": "display_data"
    },
    {
     "data": {
      "text/plain": [
       "array([1., 1., 0., 1., 1., 1., 0., 1., 1., 0.], dtype=float32)"
      ]
     },
     "metadata": {},
     "output_type": "display_data"
    },
    {
     "data": {
      "text/plain": [
       "array([2., 1., 2., 1., 1., 2., 2., 1., 2., 2.], dtype=float32)"
      ]
     },
     "metadata": {},
     "output_type": "display_data"
    }
   ],
   "source": [
    "disaply_task(rand_from_2_best.logs, 0)\n",
    "disaply_task(rand_from_2_best.logs, 1)\n",
    "disaply_task(rand_from_2_best.logs, 2)\n",
    "disaply_task(rand_from_2_best.logs, 101)\n",
    "\n",
    "# display(np.mean(logs[\"train_returns\"],1))\n",
    "# display(np.mean(logs[\"valid_returns\"],1))"
   ]
  },
  {
   "cell_type": "code",
   "execution_count": null,
   "metadata": {},
   "outputs": [],
   "source": []
  }
 ],
 "metadata": {
  "kernelspec": {
   "display_name": "Python 3.8.5 64-bit",
   "language": "python",
   "name": "python38564bit267b360d640f4df28e1429a493b0f176"
  },
  "language_info": {
   "codemirror_mode": {
    "name": "ipython",
    "version": 3
   },
   "file_extension": ".py",
   "mimetype": "text/x-python",
   "name": "python",
   "nbconvert_exporter": "python",
   "pygments_lexer": "ipython3",
   "version": "3.8.5"
  }
 },
 "nbformat": 4,
 "nbformat_minor": 4
}
