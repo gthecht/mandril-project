{
 "cells": [
  {
   "cell_type": "markdown",
   "metadata": {},
   "source": [
    "# Mandril with multiple experts, and suboptimal experts"
   ]
  },
  {
   "cell_type": "code",
   "execution_count": 1,
   "metadata": {},
   "outputs": [],
   "source": [
    "from mab.expertTest import ExpertTest\n",
    "import torch\n",
    "import matplotlib.pyplot as plt\n",
    "import numpy as np"
   ]
  },
  {
   "cell_type": "code",
   "execution_count": 2,
   "metadata": {},
   "outputs": [],
   "source": [
    "paths = {\n",
    "    \"perfect\": \"banditk5n10/perfect\",\n",
    "    \"rand_from_2_best\": \"banditk5n10/rand_from_2_best\",\n",
    "    \"rand_from_3_best\": \"banditk5n10/rand_from_3_best\",\n",
    "}"
   ]
  },
  {
   "cell_type": "code",
   "execution_count": 3,
   "metadata": {},
   "outputs": [],
   "source": [
    "perfect = ExpertTest(paths[\"perfect\"])\n",
    "rand_from_2_best = ExpertTest(paths[\"rand_from_2_best\"])\n",
    "rand_from_3_best = ExpertTest(paths[\"rand_from_3_best\"])"
   ]
  },
  {
   "cell_type": "code",
   "execution_count": 4,
   "metadata": {},
   "outputs": [],
   "source": [
    "def disaply_task(logs, ind):\n",
    "    print(\"tasks:\")\n",
    "    display(logs[\"tasks\"][ind])\n",
    "    print(\"Training:\")\n",
    "    print(\"  actions\")\n",
    "    display(logs[\"train_actions\"][ind])\n",
    "    print(\"  returns\")\n",
    "    display(logs[\"train_returns\"][ind])\n",
    "    print(\"Validation:\")\n",
    "    print(\"  actions\")\n",
    "    display(logs[\"valid_actions\"][ind])\n",
    "    print(\"  returns\")\n",
    "    display(logs[\"valid_returns\"][ind])"
   ]
  },
  {
   "cell_type": "code",
   "execution_count": 5,
   "metadata": {},
   "outputs": [
    {
     "data": {
      "text/plain": [
       "(2000,)"
      ]
     },
     "metadata": {},
     "output_type": "display_data"
    },
    {
     "data": {
      "text/plain": [
       "(2000, 10)"
      ]
     },
     "metadata": {},
     "output_type": "display_data"
    },
    {
     "data": {
      "text/plain": [
       "(2000, 10)"
      ]
     },
     "metadata": {},
     "output_type": "display_data"
    },
    {
     "name": "stdout",
     "output_type": "stream",
     "text": [
      "tasks:\n"
     ]
    },
    {
     "data": {
      "text/plain": [
       "{'mean': array([0.80739044, 0.51450007, 0.19111815, 0.18687478, 0.77252164])}"
      ]
     },
     "metadata": {},
     "output_type": "display_data"
    },
    {
     "name": "stdout",
     "output_type": "stream",
     "text": [
      "Training:\n",
      "  actions\n"
     ]
    },
    {
     "data": {
      "text/plain": [
       "array([[0., 0., 0., 0., 0., 0., 0., 0., 0., 0.]], dtype=float32)"
      ]
     },
     "metadata": {},
     "output_type": "display_data"
    },
    {
     "name": "stdout",
     "output_type": "stream",
     "text": [
      "  returns\n"
     ]
    },
    {
     "data": {
      "text/plain": [
       "array([1., 0., 1., 1., 1., 1., 1., 1., 1., 1.], dtype=float32)"
      ]
     },
     "metadata": {},
     "output_type": "display_data"
    },
    {
     "name": "stdout",
     "output_type": "stream",
     "text": [
      "Validation:\n",
      "  actions\n"
     ]
    },
    {
     "data": {
      "text/plain": [
       "array([[0., 0., 0., 0., 0., 0., 0., 0., 0., 0.],\n",
       "       [0., 0., 0., 0., 0., 0., 0., 0., 0., 0.]], dtype=float32)"
      ]
     },
     "metadata": {},
     "output_type": "display_data"
    },
    {
     "name": "stdout",
     "output_type": "stream",
     "text": [
      "  returns\n"
     ]
    },
    {
     "data": {
      "text/plain": [
       "array([2., 2., 2., 2., 2., 1., 1., 2., 2., 2.], dtype=float32)"
      ]
     },
     "metadata": {},
     "output_type": "display_data"
    },
    {
     "name": "stdout",
     "output_type": "stream",
     "text": [
      "tasks:\n"
     ]
    },
    {
     "data": {
      "text/plain": [
       "{'mean': array([0.05182789, 0.06952621, 0.51517512, 0.68854365, 0.45962809])}"
      ]
     },
     "metadata": {},
     "output_type": "display_data"
    },
    {
     "name": "stdout",
     "output_type": "stream",
     "text": [
      "Training:\n",
      "  actions\n"
     ]
    },
    {
     "data": {
      "text/plain": [
       "array([[3., 3., 3., 3., 3., 3., 3., 3., 3., 3.]], dtype=float32)"
      ]
     },
     "metadata": {},
     "output_type": "display_data"
    },
    {
     "name": "stdout",
     "output_type": "stream",
     "text": [
      "  returns\n"
     ]
    },
    {
     "data": {
      "text/plain": [
       "array([1., 1., 1., 1., 0., 0., 0., 1., 1., 1.], dtype=float32)"
      ]
     },
     "metadata": {},
     "output_type": "display_data"
    },
    {
     "name": "stdout",
     "output_type": "stream",
     "text": [
      "Validation:\n",
      "  actions\n"
     ]
    },
    {
     "data": {
      "text/plain": [
       "array([[3., 3., 3., 3., 3., 3., 3., 3., 3., 3.],\n",
       "       [3., 3., 3., 3., 3., 3., 3., 3., 3., 3.]], dtype=float32)"
      ]
     },
     "metadata": {},
     "output_type": "display_data"
    },
    {
     "name": "stdout",
     "output_type": "stream",
     "text": [
      "  returns\n"
     ]
    },
    {
     "data": {
      "text/plain": [
       "array([2., 2., 1., 2., 1., 1., 1., 2., 1., 1.], dtype=float32)"
      ]
     },
     "metadata": {},
     "output_type": "display_data"
    }
   ],
   "source": [
    "display(perfect.logs[\"tasks\"].shape)\n",
    "display(perfect.logs[\"train_returns\"].shape)\n",
    "display(perfect.logs[\"valid_returns\"].shape)\n",
    "\n",
    "\n",
    "disaply_task(perfect.logs, 0)\n",
    "disaply_task(perfect.logs, 1)"
   ]
  },
  {
   "cell_type": "code",
   "execution_count": 6,
   "metadata": {},
   "outputs": [
    {
     "name": "stdout",
     "output_type": "stream",
     "text": [
      "tasks:\n"
     ]
    },
    {
     "data": {
      "text/plain": [
       "{'mean': array([0.80739044, 0.51450007, 0.19111815, 0.18687478, 0.77252164])}"
      ]
     },
     "metadata": {},
     "output_type": "display_data"
    },
    {
     "name": "stdout",
     "output_type": "stream",
     "text": [
      "Training:\n",
      "  actions\n"
     ]
    },
    {
     "data": {
      "text/plain": [
       "array([[4., 4., 4., 0., 0., 4., 4., 4., 0., 4.]], dtype=float32)"
      ]
     },
     "metadata": {},
     "output_type": "display_data"
    },
    {
     "name": "stdout",
     "output_type": "stream",
     "text": [
      "  returns\n"
     ]
    },
    {
     "data": {
      "text/plain": [
       "array([0., 0., 1., 1., 1., 1., 1., 1., 1., 1.], dtype=float32)"
      ]
     },
     "metadata": {},
     "output_type": "display_data"
    },
    {
     "name": "stdout",
     "output_type": "stream",
     "text": [
      "Validation:\n",
      "  actions\n"
     ]
    },
    {
     "data": {
      "text/plain": [
       "array([[4., 4., 0., 4., 0., 4., 0., 4., 0., 0.],\n",
       "       [4., 0., 0., 4., 4., 0., 0., 0., 4., 4.]], dtype=float32)"
      ]
     },
     "metadata": {},
     "output_type": "display_data"
    },
    {
     "name": "stdout",
     "output_type": "stream",
     "text": [
      "  returns\n"
     ]
    },
    {
     "data": {
      "text/plain": [
       "array([2., 2., 2., 2., 2., 1., 1., 2., 2., 2.], dtype=float32)"
      ]
     },
     "metadata": {},
     "output_type": "display_data"
    },
    {
     "name": "stdout",
     "output_type": "stream",
     "text": [
      "tasks:\n"
     ]
    },
    {
     "data": {
      "text/plain": [
       "{'mean': array([0.05182789, 0.06952621, 0.51517512, 0.68854365, 0.45962809])}"
      ]
     },
     "metadata": {},
     "output_type": "display_data"
    },
    {
     "name": "stdout",
     "output_type": "stream",
     "text": [
      "Training:\n",
      "  actions\n"
     ]
    },
    {
     "data": {
      "text/plain": [
       "array([[2., 2., 2., 3., 3., 2., 2., 2., 3., 2.]], dtype=float32)"
      ]
     },
     "metadata": {},
     "output_type": "display_data"
    },
    {
     "name": "stdout",
     "output_type": "stream",
     "text": [
      "  returns\n"
     ]
    },
    {
     "data": {
      "text/plain": [
       "array([1., 1., 0., 1., 0., 0., 0., 1., 1., 0.], dtype=float32)"
      ]
     },
     "metadata": {},
     "output_type": "display_data"
    },
    {
     "name": "stdout",
     "output_type": "stream",
     "text": [
      "Validation:\n",
      "  actions\n"
     ]
    },
    {
     "data": {
      "text/plain": [
       "array([[2., 2., 3., 2., 3., 2., 3., 2., 3., 3.],\n",
       "       [2., 3., 3., 2., 2., 3., 3., 3., 2., 2.]], dtype=float32)"
      ]
     },
     "metadata": {},
     "output_type": "display_data"
    },
    {
     "name": "stdout",
     "output_type": "stream",
     "text": [
      "  returns\n"
     ]
    },
    {
     "data": {
      "text/plain": [
       "array([1., 1., 1., 2., 1., 1., 1., 1., 1., 1.], dtype=float32)"
      ]
     },
     "metadata": {},
     "output_type": "display_data"
    }
   ],
   "source": [
    "disaply_task(rand_from_2_best.logs, 0)\n",
    "disaply_task(rand_from_2_best.logs, 1)"
   ]
  },
  {
   "cell_type": "code",
   "execution_count": 7,
   "metadata": {},
   "outputs": [
    {
     "name": "stdout",
     "output_type": "stream",
     "text": [
      "tasks:\n"
     ]
    },
    {
     "data": {
      "text/plain": [
       "{'mean': array([0.80739044, 0.51450007, 0.19111815, 0.18687478, 0.77252164])}"
      ]
     },
     "metadata": {},
     "output_type": "display_data"
    },
    {
     "name": "stdout",
     "output_type": "stream",
     "text": [
      "Training:\n",
      "  actions\n"
     ]
    },
    {
     "data": {
      "text/plain": [
       "array([[0., 1., 0., 1., 1., 0., 1., 0., 4., 1.]], dtype=float32)"
      ]
     },
     "metadata": {},
     "output_type": "display_data"
    },
    {
     "name": "stdout",
     "output_type": "stream",
     "text": [
      "  returns\n"
     ]
    },
    {
     "data": {
      "text/plain": [
       "array([1., 0., 1., 0., 1., 1., 1., 1., 1., 0.], dtype=float32)"
      ]
     },
     "metadata": {},
     "output_type": "display_data"
    },
    {
     "name": "stdout",
     "output_type": "stream",
     "text": [
      "Validation:\n",
      "  actions\n"
     ]
    },
    {
     "data": {
      "text/plain": [
       "array([[4., 1., 0., 0., 1., 1., 1., 4., 4., 4.],\n",
       "       [1., 4., 0., 1., 4., 0., 0., 1., 0., 0.]], dtype=float32)"
      ]
     },
     "metadata": {},
     "output_type": "display_data"
    },
    {
     "name": "stdout",
     "output_type": "stream",
     "text": [
      "  returns\n"
     ]
    },
    {
     "data": {
      "text/plain": [
       "array([2., 1., 2., 2., 2., 1., 1., 1., 2., 2.], dtype=float32)"
      ]
     },
     "metadata": {},
     "output_type": "display_data"
    },
    {
     "name": "stdout",
     "output_type": "stream",
     "text": [
      "tasks:\n"
     ]
    },
    {
     "data": {
      "text/plain": [
       "{'mean': array([0.05182789, 0.06952621, 0.51517512, 0.68854365, 0.45962809])}"
      ]
     },
     "metadata": {},
     "output_type": "display_data"
    },
    {
     "name": "stdout",
     "output_type": "stream",
     "text": [
      "Training:\n",
      "  actions\n"
     ]
    },
    {
     "data": {
      "text/plain": [
       "array([[3., 4., 3., 4., 4., 3., 4., 3., 2., 4.]], dtype=float32)"
      ]
     },
     "metadata": {},
     "output_type": "display_data"
    },
    {
     "name": "stdout",
     "output_type": "stream",
     "text": [
      "  returns\n"
     ]
    },
    {
     "data": {
      "text/plain": [
       "array([1., 0., 1., 0., 1., 0., 1., 1., 0., 1.], dtype=float32)"
      ]
     },
     "metadata": {},
     "output_type": "display_data"
    },
    {
     "name": "stdout",
     "output_type": "stream",
     "text": [
      "Validation:\n",
      "  actions\n"
     ]
    },
    {
     "data": {
      "text/plain": [
       "array([[2., 4., 3., 3., 4., 4., 4., 2., 2., 2.],\n",
       "       [4., 2., 3., 4., 2., 3., 3., 4., 3., 3.]], dtype=float32)"
      ]
     },
     "metadata": {},
     "output_type": "display_data"
    },
    {
     "name": "stdout",
     "output_type": "stream",
     "text": [
      "  returns\n"
     ]
    },
    {
     "data": {
      "text/plain": [
       "array([2., 2., 1., 1., 2., 2., 1., 0., 1., 1.], dtype=float32)"
      ]
     },
     "metadata": {},
     "output_type": "display_data"
    }
   ],
   "source": [
    "disaply_task(rand_from_3_best.logs, 0)\n",
    "disaply_task(rand_from_3_best.logs, 1)"
   ]
  },
  {
   "cell_type": "markdown",
   "metadata": {},
   "source": [
    "## Average reward for each expert, and for each trainee\n",
    "We also want to see how many times the trainee chose what arm - according to the best to worst."
   ]
  },
  {
   "cell_type": "code",
   "execution_count": 8,
   "metadata": {},
   "outputs": [],
   "source": [
    "def get_mean(returns):\n",
    "    return returns.mean()"
   ]
  },
  {
   "cell_type": "code",
   "execution_count": 9,
   "metadata": {},
   "outputs": [
    {
     "name": "stdout",
     "output_type": "stream",
     "text": [
      "Perfect\n"
     ]
    },
    {
     "data": {
      "text/plain": [
       "0.83115"
      ]
     },
     "metadata": {},
     "output_type": "display_data"
    },
    {
     "data": {
      "text/plain": [
       "1.65435"
      ]
     },
     "metadata": {},
     "output_type": "display_data"
    },
    {
     "name": "stdout",
     "output_type": "stream",
     "text": [
      "Random of best 2\n"
     ]
    },
    {
     "data": {
      "text/plain": [
       "0.7441"
      ]
     },
     "metadata": {},
     "output_type": "display_data"
    },
    {
     "data": {
      "text/plain": [
       "1.49055"
      ]
     },
     "metadata": {},
     "output_type": "display_data"
    },
    {
     "name": "stdout",
     "output_type": "stream",
     "text": [
      "Random of best 3\n"
     ]
    },
    {
     "data": {
      "text/plain": [
       "0.66845"
      ]
     },
     "metadata": {},
     "output_type": "display_data"
    },
    {
     "data": {
      "text/plain": [
       "1.322"
      ]
     },
     "metadata": {},
     "output_type": "display_data"
    }
   ],
   "source": [
    "print(\"Perfect\")\n",
    "display(get_mean(perfect.logs[\"train_returns\"]))\n",
    "display(get_mean(perfect.logs[\"valid_returns\"]))\n",
    "print(\"Random of best 2\")\n",
    "display(get_mean(rand_from_2_best.logs[\"train_returns\"]))\n",
    "display(get_mean(rand_from_2_best.logs[\"valid_returns\"]))\n",
    "print(\"Random of best 3\")\n",
    "display(get_mean(rand_from_3_best.logs[\"train_returns\"]))\n",
    "display(get_mean(rand_from_3_best.logs[\"valid_returns\"]))"
   ]
  },
  {
   "cell_type": "markdown",
   "metadata": {},
   "source": [
    "## Display actions by sorted index\n",
    "Meaning we sort the means from the greatest to the smallest, and then look at the actions taken in relation to these."
   ]
  },
  {
   "cell_type": "code",
   "execution_count": 48,
   "metadata": {},
   "outputs": [],
   "source": [
    "perfect.get_sorted()\n",
    "rand_from_2_best.get_sorted()\n",
    "rand_from_3_best.get_sorted()"
   ]
  },
  {
   "cell_type": "markdown",
   "metadata": {},
   "source": [
    "### Histograms of the actions taken\n",
    "The actions are sorted from best to worst, i.e. 0 is the best actions, and 4 is the worst."
   ]
  },
  {
   "cell_type": "code",
   "execution_count": 71,
   "metadata": {},
   "outputs": [],
   "source": [
    "def autolabel(rects, ax):\n",
    "    \"\"\"Attach a text label above each bar in *rects*, displaying its height.\"\"\"\n",
    "    for rect in rects:\n",
    "        height = np.round(rect.get_height(),2)\n",
    "        ax.annotate('{}'.format(height),\n",
    "                    xy=(rect.get_x() + rect.get_width() / 2, height),\n",
    "                    xytext=(0, 3),  # 3 points vertical offset\n",
    "                    textcoords=\"offset points\",\n",
    "                    ha='center', va='bottom')"
   ]
  },
  {
   "cell_type": "code",
   "execution_count": 73,
   "metadata": {},
   "outputs": [
    {
     "data": {
      "image/png": "[encoded data removed]",
      "text/plain": [
       "<Figure size 432x432 with 3 Axes>"
      ]
     },
     "metadata": {
      "needs_background": "light"
     },
     "output_type": "display_data"
    }
   ],
   "source": [
    "hist0 = np.histogram(perfect.valid_sorted.reshape(-1).numpy(), bins=5, range=[0,5])\n",
    "hist1 = np.histogram(rand_from_2_best.valid_sorted.reshape(-1).numpy(), bins=5, range=[0,5])\n",
    "hist2 = np.histogram(rand_from_3_best.valid_sorted.reshape(-1).numpy(), bins=5, range=[0,5])\n",
    "\n",
    "train0 = np.histogram(perfect.train_sorted.reshape(-1).numpy(), bins=5, range=[0,5])\n",
    "train1 = np.histogram(rand_from_2_best.train_sorted.reshape(-1).numpy(), bins=5, range=[0,5])\n",
    "train2 = np.histogram(rand_from_3_best.train_sorted.reshape(-1).numpy(), bins=5, range=[0,5])\n",
    "\n",
    "width = 0.35\n",
    "\n",
    "N_valid = len(perfect.valid_sorted.reshape(-1))\n",
    "N_train = len(perfect.train_sorted.reshape(-1))\n",
    "\n",
    "fig, axs = plt.subplots(3,1, sharex=True, sharey=True, figsize=(6,6))\n",
    "r01 = axs[0].bar(np.arange(5) - width / 2, hist0[0] / N_valid, width, label=\"Validation\")\n",
    "r02 = axs[0].bar(np.arange(5) + width / 2, train0[0] / N_train, width, label=\"Training\")\n",
    "autolabel(r01, axs[0])\n",
    "autolabel(r02, axs[0])\n",
    "axs[0].set_title(\"Perfect\")\n",
    "\n",
    "r11 = axs[1].bar(np.arange(5) - width / 2, hist1[0] / N_valid, width, label=\"Validation\")\n",
    "r12 = axs[1].bar(np.arange(5) + width / 2, train1[0] / N_train, width, label=\"Training\")\n",
    "autolabel(r11, axs[1])\n",
    "autolabel(r12, axs[1])\n",
    "axs[1].set_title(\"rand_from_2_best\")\n",
    "\n",
    "r21 = axs[2].bar(np.arange(5) - width / 2, hist2[0] / N_valid, width, label=\"Validation\")\n",
    "r22 = axs[2].bar(np.arange(5) + width / 2, train2[0] / N_train, width, label=\"Training\")\n",
    "autolabel(r21, axs[2])\n",
    "autolabel(r22, axs[2])\n",
    "axs[2].set_title(\"rand_from_3_best\")\n",
    "\n",
    "fig.suptitle(\"Histogram of actions ordered from best to worst\")\n",
    "fig.tight_layout()\n",
    "plt.show()"
   ]
  },
  {
   "cell_type": "markdown",
   "metadata": {},
   "source": [
    "So it looks like the agent learns to replicate the expert in randomly choosing what the expert chooses.\n",
    "\n",
    "I would be interesting to train it with 100 steps, to see if it does choose the one with more gain more."
   ]
  }
 ],
 "metadata": {
  "kernelspec": {
   "display_name": "Python 3.8.5 64-bit",
   "language": "python",
   "name": "python38564bit267b360d640f4df28e1429a493b0f176"
  },
  "language_info": {
   "codemirror_mode": {
    "name": "ipython",
    "version": 3
   },
   "file_extension": ".py",
   "mimetype": "text/x-python",
   "name": "python",
   "nbconvert_exporter": "python",
   "pygments_lexer": "ipython3",
   "version": "3.8.5"
  }
 },
 "nbformat": 4,
 "nbformat_minor": 4
}
