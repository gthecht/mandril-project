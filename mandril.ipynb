{
 "cells": [
  {
   "cell_type": "markdown",
   "metadata": {},
   "source": [
    "# Mandril with multiple experts, and suboptimal experts"
   ]
  },
  {
   "cell_type": "code",
   "execution_count": 1,
   "metadata": {},
   "outputs": [],
   "source": [
    "from mab.expertTest import ExpertTest\n",
    "import torch\n",
    "import matplotlib.pyplot as plt\n",
    "import numpy as np\n",
    "from functools import partial"
   ]
  },
  {
   "cell_type": "code",
   "execution_count": 2,
   "metadata": {},
   "outputs": [],
   "source": [
    "paths = {\n",
    "    \"perfect\": \"banditk5n10/perfect\",\n",
    "    \"rand_from_2_best\": \"banditk5n10/rand_from_2_best\",\n",
    "    \"rand_from_3_best\": \"banditk5n10/rand_from_3_best\",\n",
    "    \"rand_from_rand_best_2\": \"banditk5n10/rand_from_rand_best_2\",\n",
    "#     \"rand_from_rand_best_3\": \"banditk5n10/rand_from_rand_best_3\",\n",
    "    \"rand_from_rand_best_4\": \"banditk5n10/rand_from_rand_best_4\",\n",
    "    \"rand_from_rand_best_5\": \"banditk5n10/rand_from_rand_best_5\",\n",
    "}\n",
    "\n",
    "paths_batch_size_50 = {\n",
    "    \"perfect\": \"banditk5n10/perfect_meta-batch-size-50\",\n",
    "    \"rand_from_2_best\": \"banditk5n10/rand_from_2_best_meta-batch-size-50\",\n",
    "    \"rand_from_3_best\": \"banditk5n10/rand_from_3_best_meta-batch-size-50\",\n",
    "}\n",
    "\n",
    "names = list(paths.keys())"
   ]
  },
  {
   "cell_type": "markdown",
   "metadata": {},
   "source": [
    "### Shapes of data:"
   ]
  },
  {
   "cell_type": "code",
   "execution_count": 3,
   "metadata": {},
   "outputs": [
    {
     "name": "stdout",
     "output_type": "stream",
     "text": [
      "perfect\n",
      "banditk5n10/perfect\n",
      "rand_from_2_best\n",
      "banditk5n10/rand_from_2_best\n",
      "rand_from_3_best\n",
      "banditk5n10/rand_from_3_best\n",
      "rand_from_rand_best_2\n",
      "banditk5n10/rand_from_rand_best_2\n",
      "rand_from_rand_best_4\n",
      "banditk5n10/rand_from_rand_best_4\n",
      "rand_from_rand_best_5\n",
      "banditk5n10/rand_from_rand_best_5\n"
     ]
    }
   ],
   "source": [
    "experts = {}\n",
    "for expert, path in paths.items():\n",
    "    print(expert)\n",
    "    print(path)\n",
    "    experts[expert] = ExpertTest(path)"
   ]
  },
  {
   "cell_type": "code",
   "execution_count": 4,
   "metadata": {},
   "outputs": [],
   "source": [
    "for name, expert in experts.items():\n",
    "    expert.get_sorted()"
   ]
  },
  {
   "cell_type": "code",
   "execution_count": 5,
   "metadata": {},
   "outputs": [
    {
     "data": {
      "text/plain": [
       "(2000,)"
      ]
     },
     "metadata": {},
     "output_type": "display_data"
    },
    {
     "data": {
      "text/plain": [
       "(2000, 10)"
      ]
     },
     "metadata": {},
     "output_type": "display_data"
    },
    {
     "data": {
      "text/plain": [
       "(2000, 10)"
      ]
     },
     "metadata": {},
     "output_type": "display_data"
    },
    {
     "data": {
      "text/plain": [
       "(2000, 2, 10)"
      ]
     },
     "metadata": {},
     "output_type": "display_data"
    },
    {
     "data": {
      "text/plain": [
       "(2000, 10)"
      ]
     },
     "metadata": {},
     "output_type": "display_data"
    }
   ],
   "source": [
    "display(experts[\"perfect\"].logs[\"tasks\"].shape)\n",
    "display(experts[\"perfect\"].logs[\"train_returns\"].shape)\n",
    "display(experts[\"perfect\"].logs[\"valid_returns\"].shape)\n",
    "display(experts[\"perfect\"].logs[\"valid_actions\"].shape)\n",
    "display(experts[\"perfect\"].logs[\"valid_post_train\"].shape)"
   ]
  },
  {
   "cell_type": "code",
   "execution_count": 6,
   "metadata": {},
   "outputs": [],
   "source": [
    "def iterate_for_all(fun, experts):\n",
    "    for name, expert in experts.items():\n",
    "        print(\"\\n\", name.upper())\n",
    "        print(\"-----------------------------------------------------------------\")\n",
    "        fun(expert)\n",
    "        print(\"-----------------------------------------------------------------\")\n"
   ]
  },
  {
   "cell_type": "markdown",
   "metadata": {},
   "source": [
    "## Disaply data:"
   ]
  },
  {
   "cell_type": "code",
   "execution_count": 7,
   "metadata": {},
   "outputs": [],
   "source": [
    "def display_task(ind, expert):\n",
    "    print(\"tasks:\")\n",
    "    display(expert.logs[\"tasks\"][ind])\n",
    "    print(\"Training:\")\n",
    "    print(\"  actions\")\n",
    "    display(expert.logs[\"train_actions\"][ind])\n",
    "    print(\"  returns\")\n",
    "    display(expert.logs[\"train_returns\"][ind])\n",
    "    print(\"Validation:\")\n",
    "    print(\"  actions\")\n",
    "    display(expert.logs[\"valid_actions\"][ind])\n",
    "    print(\"  returns\")\n",
    "    display(expert.logs[\"valid_returns\"][ind])\n",
    "    print(\"Post training validation:\")\n",
    "    print(\"  sorted actions\")\n",
    "    display(expert.post_train_sorted[ind])"
   ]
  },
  {
   "cell_type": "code",
   "execution_count": 8,
   "metadata": {},
   "outputs": [
    {
     "name": "stdout",
     "output_type": "stream",
     "text": [
      "\n",
      " PERFECT\n",
      "-----------------------------------------------------------------\n",
      "tasks:\n"
     ]
    },
    {
     "data": {
      "text/plain": [
       "{'mean': array([0.5639425 , 0.03290938, 0.45627358, 0.7428987 , 0.19515195])}"
      ]
     },
     "metadata": {},
     "output_type": "display_data"
    },
    {
     "name": "stdout",
     "output_type": "stream",
     "text": [
      "Training:\n",
      "  actions\n"
     ]
    },
    {
     "data": {
      "text/plain": [
       "array([[3., 3., 3., 3., 3., 3., 3., 3., 3., 3.]], dtype=float32)"
      ]
     },
     "metadata": {},
     "output_type": "display_data"
    },
    {
     "name": "stdout",
     "output_type": "stream",
     "text": [
      "  returns\n"
     ]
    },
    {
     "data": {
      "text/plain": [
       "array([1., 1., 1., 1., 1., 0., 0., 1., 0., 0.], dtype=float32)"
      ]
     },
     "metadata": {},
     "output_type": "display_data"
    },
    {
     "name": "stdout",
     "output_type": "stream",
     "text": [
      "Validation:\n",
      "  actions\n"
     ]
    },
    {
     "data": {
      "text/plain": [
       "array([[2., 2., 2., 2., 2., 2., 2., 2., 2., 2.],\n",
       "       [3., 3., 3., 3., 3., 3., 3., 3., 3., 3.]], dtype=float32)"
      ]
     },
     "metadata": {},
     "output_type": "display_data"
    },
    {
     "name": "stdout",
     "output_type": "stream",
     "text": [
      "  returns\n"
     ]
    },
    {
     "data": {
      "text/plain": [
       "array([1., 1., 2., 1., 2., 2., 1., 2., 2., 2.], dtype=float32)"
      ]
     },
     "metadata": {},
     "output_type": "display_data"
    },
    {
     "name": "stdout",
     "output_type": "stream",
     "text": [
      "Post training validation:\n",
      "  sorted actions\n"
     ]
    },
    {
     "data": {
      "text/plain": [
       "tensor([0., 0., 0., 0., 0., 0., 0., 0., 0., 0.])"
      ]
     },
     "metadata": {},
     "output_type": "display_data"
    },
    {
     "name": "stdout",
     "output_type": "stream",
     "text": [
      "-----------------------------------------------------------------\n",
      "\n",
      " RAND_FROM_2_BEST\n",
      "-----------------------------------------------------------------\n",
      "tasks:\n"
     ]
    },
    {
     "data": {
      "text/plain": [
       "{'mean': array([0.5639425 , 0.03290938, 0.45627358, 0.7428987 , 0.19515195])}"
      ]
     },
     "metadata": {},
     "output_type": "display_data"
    },
    {
     "name": "stdout",
     "output_type": "stream",
     "text": [
      "Training:\n",
      "  actions\n"
     ]
    },
    {
     "data": {
      "text/plain": [
       "array([[0., 0., 3., 0., 0., 3., 3., 0., 3., 0.]], dtype=float32)"
      ]
     },
     "metadata": {},
     "output_type": "display_data"
    },
    {
     "name": "stdout",
     "output_type": "stream",
     "text": [
      "  returns\n"
     ]
    },
    {
     "data": {
      "text/plain": [
       "array([0., 0., 1., 0., 0., 0., 0., 0., 1., 1.], dtype=float32)"
      ]
     },
     "metadata": {},
     "output_type": "display_data"
    },
    {
     "name": "stdout",
     "output_type": "stream",
     "text": [
      "Validation:\n",
      "  actions\n"
     ]
    },
    {
     "data": {
      "text/plain": [
       "array([[2., 2., 2., 4., 4., 4., 4., 4., 4., 4.],\n",
       "       [3., 3., 3., 0., 3., 0., 3., 3., 3., 0.]], dtype=float32)"
      ]
     },
     "metadata": {},
     "output_type": "display_data"
    },
    {
     "name": "stdout",
     "output_type": "stream",
     "text": [
      "  returns\n"
     ]
    },
    {
     "data": {
      "text/plain": [
       "array([2., 0., 0., 0., 1., 0., 1., 1., 1., 1.], dtype=float32)"
      ]
     },
     "metadata": {},
     "output_type": "display_data"
    },
    {
     "name": "stdout",
     "output_type": "stream",
     "text": [
      "Post training validation:\n",
      "  sorted actions\n"
     ]
    },
    {
     "data": {
      "text/plain": [
       "tensor([0., 0., 0., 1., 0., 1., 0., 0., 0., 1.])"
      ]
     },
     "metadata": {},
     "output_type": "display_data"
    },
    {
     "name": "stdout",
     "output_type": "stream",
     "text": [
      "-----------------------------------------------------------------\n",
      "\n",
      " RAND_FROM_3_BEST\n",
      "-----------------------------------------------------------------\n",
      "tasks:\n"
     ]
    },
    {
     "data": {
      "text/plain": [
       "{'mean': array([0.5639425 , 0.03290938, 0.45627358, 0.7428987 , 0.19515195])}"
      ]
     },
     "metadata": {},
     "output_type": "display_data"
    },
    {
     "name": "stdout",
     "output_type": "stream",
     "text": [
      "Training:\n",
      "  actions\n"
     ]
    },
    {
     "data": {
      "text/plain": [
       "array([[3., 2., 0., 0., 2., 3., 3., 0., 0., 2.]], dtype=float32)"
      ]
     },
     "metadata": {},
     "output_type": "display_data"
    },
    {
     "name": "stdout",
     "output_type": "stream",
     "text": [
      "  returns\n"
     ]
    },
    {
     "data": {
      "text/plain": [
       "array([1., 1., 0., 0., 0., 1., 1., 0., 1., 1.], dtype=float32)"
      ]
     },
     "metadata": {},
     "output_type": "display_data"
    },
    {
     "name": "stdout",
     "output_type": "stream",
     "text": [
      "Validation:\n",
      "  actions\n"
     ]
    },
    {
     "data": {
      "text/plain": [
       "array([[4., 1., 2., 1., 2., 0., 2., 2., 0., 2.],\n",
       "       [2., 0., 2., 2., 2., 3., 2., 0., 2., 3.]], dtype=float32)"
      ]
     },
     "metadata": {},
     "output_type": "display_data"
    },
    {
     "name": "stdout",
     "output_type": "stream",
     "text": [
      "  returns\n"
     ]
    },
    {
     "data": {
      "text/plain": [
       "array([0., 0., 1., 0., 2., 1., 0., 1., 1., 1.], dtype=float32)"
      ]
     },
     "metadata": {},
     "output_type": "display_data"
    },
    {
     "name": "stdout",
     "output_type": "stream",
     "text": [
      "Post training validation:\n",
      "  sorted actions\n"
     ]
    },
    {
     "data": {
      "text/plain": [
       "tensor([2., 1., 2., 2., 2., 0., 2., 1., 2., 0.])"
      ]
     },
     "metadata": {},
     "output_type": "display_data"
    },
    {
     "name": "stdout",
     "output_type": "stream",
     "text": [
      "-----------------------------------------------------------------\n",
      "\n",
      " RAND_FROM_RAND_BEST_2\n",
      "-----------------------------------------------------------------\n",
      "tasks:\n"
     ]
    },
    {
     "data": {
      "text/plain": [
       "{'mean': array([0.5639425 , 0.03290938, 0.45627358, 0.7428987 , 0.19515195])}"
      ]
     },
     "metadata": {},
     "output_type": "display_data"
    },
    {
     "name": "stdout",
     "output_type": "stream",
     "text": [
      "Training:\n",
      "  actions\n"
     ]
    },
    {
     "data": {
      "text/plain": [
       "array([[3., 0., 3., 0., 3., 0., 3., 0., 0., 3.]], dtype=float32)"
      ]
     },
     "metadata": {},
     "output_type": "display_data"
    },
    {
     "name": "stdout",
     "output_type": "stream",
     "text": [
      "  returns\n"
     ]
    },
    {
     "data": {
      "text/plain": [
       "array([1., 0., 1., 0., 1., 1., 1., 1., 1., 0.], dtype=float32)"
      ]
     },
     "metadata": {},
     "output_type": "display_data"
    },
    {
     "name": "stdout",
     "output_type": "stream",
     "text": [
      "Validation:\n",
      "  actions\n"
     ]
    },
    {
     "data": {
      "text/plain": [
       "array([[1., 3., 1., 3., 1., 1., 1., 4., 1., 3.],\n",
       "       [3., 3., 3., 3., 3., 3., 3., 3., 3., 3.]], dtype=float32)"
      ]
     },
     "metadata": {},
     "output_type": "display_data"
    },
    {
     "name": "stdout",
     "output_type": "stream",
     "text": [
      "  returns\n"
     ]
    },
    {
     "data": {
      "text/plain": [
       "array([0., 1., 1., 2., 0., 1., 2., 1., 1., 2.], dtype=float32)"
      ]
     },
     "metadata": {},
     "output_type": "display_data"
    },
    {
     "name": "stdout",
     "output_type": "stream",
     "text": [
      "Post training validation:\n",
      "  sorted actions\n"
     ]
    },
    {
     "data": {
      "text/plain": [
       "tensor([0., 0., 0., 0., 0., 0., 0., 0., 0., 0.])"
      ]
     },
     "metadata": {},
     "output_type": "display_data"
    },
    {
     "name": "stdout",
     "output_type": "stream",
     "text": [
      "-----------------------------------------------------------------\n",
      "\n",
      " RAND_FROM_RAND_BEST_4\n",
      "-----------------------------------------------------------------\n",
      "tasks:\n"
     ]
    },
    {
     "data": {
      "text/plain": [
       "{'mean': array([0.5639425 , 0.03290938, 0.45627358, 0.7428987 , 0.19515195])}"
      ]
     },
     "metadata": {},
     "output_type": "display_data"
    },
    {
     "name": "stdout",
     "output_type": "stream",
     "text": [
      "Training:\n",
      "  actions\n"
     ]
    },
    {
     "data": {
      "text/plain": [
       "array([[2., 0., 2., 4., 4., 2., 3., 3., 4., 4.]], dtype=float32)"
      ]
     },
     "metadata": {},
     "output_type": "display_data"
    },
    {
     "name": "stdout",
     "output_type": "stream",
     "text": [
      "  returns\n"
     ]
    },
    {
     "data": {
      "text/plain": [
       "array([1., 0., 0., 0., 1., 1., 1., 1., 0., 0.], dtype=float32)"
      ]
     },
     "metadata": {},
     "output_type": "display_data"
    },
    {
     "name": "stdout",
     "output_type": "stream",
     "text": [
      "Validation:\n",
      "  actions\n"
     ]
    },
    {
     "data": {
      "text/plain": [
       "array([[0., 0., 0., 0., 0., 0., 0., 0., 0., 0.],\n",
       "       [3., 3., 0., 2., 2., 3., 2., 2., 0., 0.]], dtype=float32)"
      ]
     },
     "metadata": {},
     "output_type": "display_data"
    },
    {
     "name": "stdout",
     "output_type": "stream",
     "text": [
      "  returns\n"
     ]
    },
    {
     "data": {
      "text/plain": [
       "array([1., 1., 1., 0., 0., 2., 0., 1., 2., 2.], dtype=float32)"
      ]
     },
     "metadata": {},
     "output_type": "display_data"
    },
    {
     "name": "stdout",
     "output_type": "stream",
     "text": [
      "Post training validation:\n",
      "  sorted actions\n"
     ]
    },
    {
     "data": {
      "text/plain": [
       "tensor([0., 0., 1., 2., 2., 0., 2., 2., 1., 1.])"
      ]
     },
     "metadata": {},
     "output_type": "display_data"
    },
    {
     "name": "stdout",
     "output_type": "stream",
     "text": [
      "-----------------------------------------------------------------\n",
      "\n",
      " RAND_FROM_RAND_BEST_5\n",
      "-----------------------------------------------------------------\n",
      "tasks:\n"
     ]
    },
    {
     "data": {
      "text/plain": [
       "{'mean': array([0.5639425 , 0.03290938, 0.45627358, 0.7428987 , 0.19515195])}"
      ]
     },
     "metadata": {},
     "output_type": "display_data"
    },
    {
     "name": "stdout",
     "output_type": "stream",
     "text": [
      "Training:\n",
      "  actions\n"
     ]
    },
    {
     "data": {
      "text/plain": [
       "array([[3., 3., 3., 3., 3., 3., 3., 3., 3., 3.]], dtype=float32)"
      ]
     },
     "metadata": {},
     "output_type": "display_data"
    },
    {
     "name": "stdout",
     "output_type": "stream",
     "text": [
      "  returns\n"
     ]
    },
    {
     "data": {
      "text/plain": [
       "array([0., 0., 1., 0., 1., 0., 0., 1., 1., 1.], dtype=float32)"
      ]
     },
     "metadata": {},
     "output_type": "display_data"
    },
    {
     "name": "stdout",
     "output_type": "stream",
     "text": [
      "Validation:\n",
      "  actions\n"
     ]
    },
    {
     "data": {
      "text/plain": [
       "array([[0., 1., 0., 1., 0., 1., 1., 3., 2., 1.],\n",
       "       [0., 2., 2., 3., 0., 0., 3., 3., 0., 2.]], dtype=float32)"
      ]
     },
     "metadata": {},
     "output_type": "display_data"
    },
    {
     "name": "stdout",
     "output_type": "stream",
     "text": [
      "  returns\n"
     ]
    },
    {
     "data": {
      "text/plain": [
       "array([1., 1., 2., 0., 2., 0., 0., 2., 1., 0.], dtype=float32)"
      ]
     },
     "metadata": {},
     "output_type": "display_data"
    },
    {
     "name": "stdout",
     "output_type": "stream",
     "text": [
      "Post training validation:\n",
      "  sorted actions\n"
     ]
    },
    {
     "data": {
      "text/plain": [
       "tensor([1., 2., 2., 0., 1., 1., 0., 0., 1., 2.])"
      ]
     },
     "metadata": {},
     "output_type": "display_data"
    },
    {
     "name": "stdout",
     "output_type": "stream",
     "text": [
      "-----------------------------------------------------------------\n"
     ]
    }
   ],
   "source": [
    "rand_ind = np.random.randint(len(experts[names[0]].logs[\"tasks\"]))\n",
    "display_with_ind = partial(display_task, rand_ind)\n",
    "iterate_for_all(display_with_ind, experts)"
   ]
  },
  {
   "cell_type": "markdown",
   "metadata": {},
   "source": [
    "## Average reward for each expert, and for each trainee\n",
    "We also want to see how many times the trainee chose what arm - according to the best to worst."
   ]
  },
  {
   "cell_type": "code",
   "execution_count": 9,
   "metadata": {},
   "outputs": [],
   "source": [
    "def display_mean(expert):\n",
    "    display(expert.logs[\"train_returns\"].mean())\n",
    "    display(expert.logs[\"valid_returns\"].mean())"
   ]
  },
  {
   "cell_type": "code",
   "execution_count": 10,
   "metadata": {},
   "outputs": [
    {
     "name": "stdout",
     "output_type": "stream",
     "text": [
      "\n",
      " PERFECT\n",
      "-----------------------------------------------------------------\n"
     ]
    },
    {
     "data": {
      "text/plain": [
       "0.8292"
      ]
     },
     "metadata": {},
     "output_type": "display_data"
    },
    {
     "data": {
      "text/plain": [
       "1.3278"
      ]
     },
     "metadata": {},
     "output_type": "display_data"
    },
    {
     "name": "stdout",
     "output_type": "stream",
     "text": [
      "-----------------------------------------------------------------\n",
      "\n",
      " RAND_FROM_2_BEST\n",
      "-----------------------------------------------------------------\n"
     ]
    },
    {
     "data": {
      "text/plain": [
       "0.7441"
      ]
     },
     "metadata": {},
     "output_type": "display_data"
    },
    {
     "data": {
      "text/plain": [
       "1.22795"
      ]
     },
     "metadata": {},
     "output_type": "display_data"
    },
    {
     "name": "stdout",
     "output_type": "stream",
     "text": [
      "-----------------------------------------------------------------\n",
      "\n",
      " RAND_FROM_3_BEST\n",
      "-----------------------------------------------------------------\n"
     ]
    },
    {
     "data": {
      "text/plain": [
       "0.66165"
      ]
     },
     "metadata": {},
     "output_type": "display_data"
    },
    {
     "data": {
      "text/plain": [
       "1.15705"
      ]
     },
     "metadata": {},
     "output_type": "display_data"
    },
    {
     "name": "stdout",
     "output_type": "stream",
     "text": [
      "-----------------------------------------------------------------\n",
      "\n",
      " RAND_FROM_RAND_BEST_2\n",
      "-----------------------------------------------------------------\n"
     ]
    },
    {
     "data": {
      "text/plain": [
       "0.7904"
      ]
     },
     "metadata": {},
     "output_type": "display_data"
    },
    {
     "data": {
      "text/plain": [
       "1.2792"
      ]
     },
     "metadata": {},
     "output_type": "display_data"
    },
    {
     "name": "stdout",
     "output_type": "stream",
     "text": [
      "-----------------------------------------------------------------\n",
      "\n",
      " RAND_FROM_RAND_BEST_4\n",
      "-----------------------------------------------------------------\n"
     ]
    },
    {
     "data": {
      "text/plain": [
       "0.7095"
      ]
     },
     "metadata": {},
     "output_type": "display_data"
    },
    {
     "data": {
      "text/plain": [
       "1.19095"
      ]
     },
     "metadata": {},
     "output_type": "display_data"
    },
    {
     "name": "stdout",
     "output_type": "stream",
     "text": [
      "-----------------------------------------------------------------\n",
      "\n",
      " RAND_FROM_RAND_BEST_5\n",
      "-----------------------------------------------------------------\n"
     ]
    },
    {
     "data": {
      "text/plain": [
       "0.65695"
      ]
     },
     "metadata": {},
     "output_type": "display_data"
    },
    {
     "data": {
      "text/plain": [
       "1.1433"
      ]
     },
     "metadata": {},
     "output_type": "display_data"
    },
    {
     "name": "stdout",
     "output_type": "stream",
     "text": [
      "-----------------------------------------------------------------\n"
     ]
    }
   ],
   "source": [
    "iterate_for_all(display_mean, experts)"
   ]
  },
  {
   "cell_type": "markdown",
   "metadata": {},
   "source": [
    "## Display actions by sorted index\n",
    "Meaning we sort the means from the greatest to the smallest, and then look at the actions taken in relation to these."
   ]
  },
  {
   "cell_type": "markdown",
   "metadata": {},
   "source": [
    "### Histograms of the actions taken\n",
    "The actions are sorted from best to worst, i.e. 0 is the best actions, and 4 is the worst."
   ]
  },
  {
   "cell_type": "code",
   "execution_count": 11,
   "metadata": {},
   "outputs": [],
   "source": [
    "def autolabel(rects, ax):\n",
    "    \"\"\"Attach a text label above each bar in *rects*, displaying its height.\"\"\"\n",
    "    for rect in rects:\n",
    "        height = np.round(rect.get_height(),2)\n",
    "        ax.annotate('{}'.format(height),\n",
    "                    xy=(rect.get_x() + rect.get_width() / 2, height),\n",
    "                    xytext=(0, 3),  # 3 points vertical offset\n",
    "                    textcoords=\"offset points\",\n",
    "                    ha='center', va='bottom')"
   ]
  },
  {
   "cell_type": "code",
   "execution_count": 12,
   "metadata": {},
   "outputs": [],
   "source": [
    "def draw_hists(name, expert, ax):\n",
    "    valid = np.histogram(expert.post_train_sorted.reshape(-1).numpy(), bins=5, range=[0,5])\n",
    "    train = np.histogram(expert.train_sorted.reshape(-1).numpy(), bins=5, range=[0,5])\n",
    "    \n",
    "    width = 0.35\n",
    "    N_valid = len(expert.post_train_sorted.reshape(-1))\n",
    "    N_train = len(expert.train_sorted.reshape(-1))\n",
    "    \n",
    "    r0 = ax.bar(np.arange(5) - width / 2, valid[0] / N_valid, width, label=\"Validation\")\n",
    "    r1 = ax.bar(np.arange(5) + width / 2, train[0] / N_train, width, label=\"Training\")\n",
    "    autolabel(r0, ax)\n",
    "    autolabel(r1, ax)\n",
    "    ax.set_title(name)\n",
    "    ax.legend()"
   ]
  },
  {
   "cell_type": "code",
   "execution_count": 13,
   "metadata": {},
   "outputs": [
    {
     "data": {
      "image/png": "[encoded data removed]",
      "text/plain": [
       "<Figure size 432x864 with 6 Axes>"
      ]
     },
     "metadata": {
      "needs_background": "light"
     },
     "output_type": "display_data"
    }
   ],
   "source": [
    "fig, axs = plt.subplots(len(names),1, sharex=True, sharey=True, figsize=(6, 2 * len(names)))\n",
    "ax_count = 0\n",
    "for name, expert in experts.items():\n",
    "    draw_hists(name, expert, axs[ax_count])\n",
    "    ax_count += 1\n",
    "\n",
    "fig.suptitle(\"Histogram of actions ordered from best to worst\")\n",
    "fig.tight_layout()\n",
    "plt.show()"
   ]
  },
  {
   "cell_type": "markdown",
   "metadata": {},
   "source": [
    "So it looks like the agent learns to replicate the expert in randomly choosing what the expert chooses.\n",
    "\n",
    "I would be interesting to train it with 100 steps, to see if it does choose the one with more gain more."
   ]
  },
  {
   "cell_type": "markdown",
   "metadata": {},
   "source": [
    "## Now for multiple agents at the same time\n",
    "If we take a random **k** each time, we'll try and see if the agent learns to follow the better experts more."
   ]
  },
  {
   "cell_type": "code",
   "execution_count": null,
   "metadata": {},
   "outputs": [],
   "source": []
  }
 ],
 "metadata": {
  "kernelspec": {
   "display_name": "Python 3.8.5 64-bit",
   "language": "python",
   "name": "python38564bit267b360d640f4df28e1429a493b0f176"
  },
  "language_info": {
   "codemirror_mode": {
    "name": "ipython",
    "version": 3
   },
   "file_extension": ".py",
   "mimetype": "text/x-python",
   "name": "python",
   "nbconvert_exporter": "python",
   "pygments_lexer": "ipython3",
   "version": "3.8.5"
  }
 },
 "nbformat": 4,
 "nbformat_minor": 4
}
