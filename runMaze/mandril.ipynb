{
 "cells": [
  {
   "cell_type": "markdown",
   "metadata": {},
   "source": [
    "## Imports"
   ]
  },
  {
   "cell_type": "code",
   "execution_count": 1,
   "metadata": {},
   "outputs": [],
   "source": [
    "import os, sys\n",
    "currentdir = os.path.dirname(os.path.realpath(\"mandril.ipynb\"))\n",
    "parentdir = os.path.dirname(currentdir)\n",
    "sys.path.append(parentdir)\n",
    "\n",
    "import numpy as np\n",
    "import gym\n",
    "import torch\n",
    "import json\n",
    "import numpy as np\n",
    "from tqdm import trange\n",
    "\n",
    "import maml_rl.envs\n",
    "from maml_rl.baseline import LinearFeatureBaseline\n",
    "from maml_rl.samplers import MultiTaskSampler\n",
    "from maml_rl.utils.helpers import get_policy_for_env, get_input_size\n",
    "from maml_rl.utils.reinforcement_learning import get_returns, reinforce_loss\n",
    "\n",
    "from mazelab import MazeEnv\n",
    "from mazelab.solvers import dijkstra_solver"
   ]
  },
  {
   "cell_type": "code",
   "execution_count": 2,
   "metadata": {},
   "outputs": [],
   "source": [
    "def show_maze(maze, title=None):\n",
    "    fig = plt.figure(figsize=(8,8))\n",
    "    plt.imshow(maze)\n",
    "    if title:\n",
    "        plt.title(title)\n",
    "    plt.show()"
   ]
  },
  {
   "cell_type": "code",
   "execution_count": 3,
   "metadata": {},
   "outputs": [],
   "source": [
    "with np.load(\"../maml-randomShapeMaze/results.npz\") as data_file:\n",
    "    logs = {\n",
    "        \"tasks\": data_file[\"tasks\"],\n",
    "        \"train_returns\" : data_file[\"train_returns\"],\n",
    "        \"valid_returns\" : data_file[\"valid_returns\"],\n",
    "        # \"train_episodes\" : data_file[\"train_episodes\"],\n",
    "        # \"valid_episodes\" : data_file[\"valid_episodes\"],\n",
    "    }"
   ]
  },
  {
   "cell_type": "code",
   "execution_count": 4,
   "metadata": {},
   "outputs": [
    {
     "data": {
      "text/plain": [
       "(160, 50, 50)"
      ]
     },
     "metadata": {},
     "output_type": "display_data"
    },
    {
     "data": {
      "text/plain": [
       "(160, 20)"
      ]
     },
     "metadata": {},
     "output_type": "display_data"
    },
    {
     "data": {
      "text/plain": [
       "(160, 20)"
      ]
     },
     "metadata": {},
     "output_type": "display_data"
    }
   ],
   "source": [
    "display(logs[\"tasks\"].shape)\n",
    "display(logs[\"train_returns\"].shape)\n",
    "display(logs[\"valid_returns\"].shape)"
   ]
  },
  {
   "cell_type": "code",
   "execution_count": 5,
   "metadata": {},
   "outputs": [
    {
     "data": {
      "text/plain": [
       "array([[1, 1, 1, ..., 1, 1, 1],\n",
       "       [1, 0, 0, ..., 0, 0, 1],\n",
       "       [1, 0, 0, ..., 0, 0, 1],\n",
       "       ...,\n",
       "       [1, 0, 0, ..., 0, 0, 1],\n",
       "       [1, 0, 0, ..., 0, 0, 1],\n",
       "       [1, 1, 1, ..., 1, 1, 1]], dtype=uint8)"
      ]
     },
     "metadata": {},
     "output_type": "display_data"
    },
    {
     "data": {
      "text/plain": [
       "array([0.6945    , 0.645     , 0.6925    , 0.68000007, 0.65950006,\n",
       "       0.61200005, 0.7235    , 0.68700004, 0.68950003, 0.6585    ,\n",
       "       0.66700006, 0.71050006, 0.637     , 0.73899996, 0.716     ,\n",
       "       0.71450007, 0.7235    , 0.71050006, 0.69650006, 0.6635    ,\n",
       "       0.72950006, 0.6125    , 0.6765    , 0.7145    , 0.7095001 ,\n",
       "       0.6740001 , 0.70400006, 0.6395001 , 0.68000007, 0.733     ,\n",
       "       0.65200007, 0.7085    , 0.7235001 , 0.6165001 , 0.6610001 ,\n",
       "       0.73450005, 0.684     , 0.70750004, 0.71150005, 0.6475    ,\n",
       "       0.683     , 0.6540001 , 0.6710001 , 0.73      , 0.6804999 ,\n",
       "       0.6615001 , 0.7175001 , 0.67200005, 0.6855    , 0.6195    ,\n",
       "       0.5795001 , 0.6435    , 0.6190001 , 0.689     , 0.6835    ,\n",
       "       0.74950004, 0.6955    , 0.61500007, 0.643     , 0.6725    ,\n",
       "       0.7530001 , 0.64000005, 0.68700004, 0.6825    , 0.70150006,\n",
       "       0.68700004, 0.70500004, 0.7070001 , 0.7110001 , 0.6675    ,\n",
       "       0.644     , 0.6215    , 0.6574999 , 0.6265    , 0.7055    ,\n",
       "       0.67850006, 0.64900005, 0.64400005, 0.70650005, 0.64750004,\n",
       "       0.68100005, 0.6934999 , 0.7       , 0.702     , 0.65150005,\n",
       "       0.702     , 0.65550005, 0.66      , 0.63350004, 0.6965    ,\n",
       "       0.6780001 , 0.7235001 , 0.61100006, 0.69750005, 0.6525001 ,\n",
       "       0.654     , 0.72700006, 0.6190001 , 0.5490001 , 0.6725    ,\n",
       "       0.62100005, 0.6835    , 0.67550004, 0.6715    , 0.6595    ,\n",
       "       0.66200006, 0.709     , 0.683     , 0.7335    , 0.744     ,\n",
       "       0.65700006, 0.69150007, 0.67750007, 0.6875001 , 0.693     ,\n",
       "       0.7470001 , 0.69850004, 0.69350004, 0.70049995, 0.6345    ,\n",
       "       0.7045    , 0.6265    , 0.69100004, 0.6795    , 0.6345001 ,\n",
       "       0.6585    , 0.69049996, 0.67550004, 0.647     , 0.6825    ,\n",
       "       0.6905001 , 0.70100003, 0.65300006, 0.6705    , 0.68299997,\n",
       "       0.7085001 , 0.7335    , 0.59950006, 0.6870001 , 0.6090001 ,\n",
       "       0.69350004, 0.7010001 , 0.66300005, 0.6535001 , 0.6555    ,\n",
       "       0.6955    , 0.6625    , 0.732     , 0.7005001 , 0.6405    ,\n",
       "       0.72650003, 0.70150006, 0.7285    , 0.66499996, 0.65849996,\n",
       "       0.699     , 0.66050005, 0.69000006, 0.6765    , 0.71250004],\n",
       "      dtype=float32)"
      ]
     },
     "metadata": {},
     "output_type": "display_data"
    },
    {
     "data": {
      "text/plain": [
       "array([0.7095    , 0.67450005, 0.64750004, 0.70800006, 0.68050003,\n",
       "       0.6495001 , 0.6345    , 0.67550004, 0.6415001 , 0.693     ,\n",
       "       0.65200007, 0.725     , 0.77550006, 0.75400007, 0.6700001 ,\n",
       "       0.71599996, 0.71949995, 0.63250005, 0.6715    , 0.62000006,\n",
       "       0.63250005, 0.69      , 0.7295    , 0.6865    , 0.6380001 ,\n",
       "       0.63900006, 0.684     , 0.695     , 0.64400005, 0.63850003,\n",
       "       0.6615001 , 0.64250004, 0.64900005, 0.7505001 , 0.6575001 ,\n",
       "       0.68450004, 0.6445001 , 0.6565    , 0.69      , 0.6775    ,\n",
       "       0.6905001 , 0.6465    , 0.6885    , 0.67600006, 0.69100004,\n",
       "       0.7010001 , 0.6445001 , 0.7495001 , 0.72450006, 0.6875    ,\n",
       "       0.6245    , 0.748     , 0.63350004, 0.65550005, 0.62450004,\n",
       "       0.69400007, 0.64750004, 0.66749996, 0.66200006, 0.6865    ,\n",
       "       0.65550005, 0.65150005, 0.69500005, 0.7085    , 0.6280001 ,\n",
       "       0.6765    , 0.64849997, 0.64449996, 0.656     , 0.6355001 ,\n",
       "       0.6705001 , 0.6795    , 0.633     , 0.67950004, 0.75899994,\n",
       "       0.6915    , 0.679     , 0.66300005, 0.7005001 , 0.66550004,\n",
       "       0.6625    , 0.709     , 0.6845001 , 0.6305    , 0.68      ,\n",
       "       0.7285    , 0.754     , 0.6375001 , 0.67649996, 0.59950006,\n",
       "       0.646     , 0.74      , 0.7055    , 0.6340001 , 0.6725001 ,\n",
       "       0.67750007, 0.72299993, 0.6785    , 0.64750004, 0.63500005,\n",
       "       0.71      , 0.67300004, 0.67800003, 0.68149996, 0.6475    ,\n",
       "       0.72      , 0.6735    , 0.7375001 , 0.7095    , 0.7185    ,\n",
       "       0.6255001 , 0.63900006, 0.6650001 , 0.71599996, 0.65250003,\n",
       "       0.6635    , 0.719     , 0.6590001 , 0.693     , 0.70699996,\n",
       "       0.78200006, 0.674     , 0.65500003, 0.6565    , 0.766     ,\n",
       "       0.73850006, 0.6715    , 0.66550004, 0.69850004, 0.62100005,\n",
       "       0.6635    , 0.67700005, 0.7095001 , 0.71650004, 0.7035001 ,\n",
       "       0.637     , 0.702     , 0.727     , 0.66450006, 0.56900007,\n",
       "       0.65150005, 0.6355001 , 0.6625    , 0.691     , 0.63400006,\n",
       "       0.70500004, 0.6345    , 0.7145    , 0.705     , 0.675     ,\n",
       "       0.6385001 , 0.63049996, 0.66550004, 0.61950004, 0.75400007,\n",
       "       0.6910001 , 0.6795    , 0.72800004, 0.6745001 , 0.6345001 ],\n",
       "      dtype=float32)"
      ]
     },
     "metadata": {},
     "output_type": "display_data"
    }
   ],
   "source": [
    "display(logs[\"tasks\"][0])\n",
    "display(np.mean(logs[\"train_returns\"],1))\n",
    "display(np.mean(logs[\"valid_returns\"],1))"
   ]
  },
  {
   "cell_type": "code",
   "execution_count": 6,
   "metadata": {},
   "outputs": [
    {
     "data": {
      "image/png": "[encoded data removed]",
      "text/plain": [
       "<Figure size 576x576 with 1 Axes>"
      ]
     },
     "metadata": {
      "needs_background": "light"
     },
     "output_type": "display_data"
    }
   ],
   "source": [
    "import matplotlib.pyplot as plt\n",
    "\n",
    "x = logs[\"tasks\"][0]\n",
    "show_maze(x)"
   ]
  },
  {
   "cell_type": "code",
   "execution_count": 7,
   "metadata": {},
   "outputs": [],
   "source": [
    "import argparse\n",
    "parser = argparse.ArgumentParser(\n",
    "    description='Reinforcement learning with Model-Agnostic Meta-Learning (MAML) - Test')\n",
    "\n",
    "args = {\n",
    "\"config\": \"../maml-randomShapeMaze/config.json\",\n",
    "\"policy\": \"../maml-randomShapeMaze/policy.th\",\n",
    "\n",
    "# Evaluation\n",
    "\"num_batches\": 1,\n",
    "\"meta_batch_size\": 1,\n",
    "\n",
    "# Miscellaneous\n",
    "\"output\": \"maml-randomShapeMaze/results.npz\",\n",
    "\"seed\": None,\n",
    "\"num_workers\": 1,\n",
    "\"device\": ('cpu'),\n",
    "}\n",
    "\n",
    "height = 50\n",
    "width = 50"
   ]
  },
  {
   "cell_type": "code",
   "execution_count": 8,
   "metadata": {},
   "outputs": [],
   "source": [
    "try:\n",
    "    gym.envs.register(\n",
    "        id=\"RandomShapeMaze-v0\",\n",
    "        entry_point=MazeEnv,\n",
    "        max_episode_steps=200,\n",
    "        kwargs={\"width\": 50, \"height\": 50, \"max_shapes\": 50,\n",
    "                \"max_size\": 8, \"allow_overlap\": False, \"shape\": None}\n",
    "    )\n",
    "except:\n",
    "    print(\"environment already registered\")"
   ]
  },
  {
   "cell_type": "code",
   "execution_count": 9,
   "metadata": {},
   "outputs": [],
   "source": [
    "with open(args[\"config\"], 'r') as f:\n",
    "    config = json.load(f)\n",
    "    if 'env-kwargs' not in config.keys(): config['env-kwargs'] = {}\n",
    "\n",
    "env = gym.make(config['env-name'], **config['env-kwargs'])\n",
    "env.close()\n",
    "\n",
    "# configs:\n",
    "fast_lr = config[\"fast-lr\"]"
   ]
  },
  {
   "cell_type": "code",
   "execution_count": 10,
   "metadata": {},
   "outputs": [
    {
     "name": "stdout",
     "output_type": "stream",
     "text": [
      "Parameter containing:\n",
      "tensor([-5.0741e-03, -3.4003e-03, -9.4347e-04,  5.4731e-03,  3.3771e-03,\n",
      "         2.2501e-03, -2.4179e-03, -6.0790e-03,  2.9105e-03, -9.8629e-03,\n",
      "         6.7990e-03,  4.5902e-03,  5.2574e-03, -3.5527e-03, -6.5621e-03,\n",
      "        -1.0714e-02, -7.6542e-03, -4.0847e-03,  2.8928e-03,  3.9000e-03,\n",
      "        -1.3951e-03, -7.1932e-03, -1.6175e-03, -5.2179e-03, -4.2687e-03,\n",
      "         7.9949e-03, -4.2153e-03, -1.2112e-02, -3.5377e-03,  4.2693e-03,\n",
      "         6.5639e-03,  1.9891e-03, -4.9038e-03,  1.1462e-02,  1.8910e-04,\n",
      "        -5.5978e-03, -2.1297e-03, -2.7141e-05, -1.0168e-02, -7.9677e-03,\n",
      "         5.5348e-03, -6.9713e-03,  5.6006e-03, -6.7343e-03,  2.5083e-03,\n",
      "        -7.3672e-03, -1.8347e-03,  4.5130e-03, -6.8997e-03, -5.3125e-03,\n",
      "         7.6319e-03, -4.0135e-05, -9.0457e-05, -1.7318e-03,  4.2900e-03,\n",
      "         5.4905e-03,  7.1673e-03,  4.3237e-03,  1.0657e-02,  3.2105e-04,\n",
      "        -3.5857e-03,  9.4842e-03,  8.5224e-03,  2.5220e-03],\n",
      "       requires_grad=True)\n"
     ]
    }
   ],
   "source": [
    "def get_policy(policy_path):\n",
    "    policy = get_policy_for_env(env,\n",
    "                                hidden_sizes=config['hidden-sizes'],\n",
    "                                nonlinearity=config['nonlinearity'])\n",
    "    with open(policy_path, 'rb') as f:\n",
    "        state_dict = torch.load(f, map_location=torch.device(args[\"device\"]))\n",
    "        policy.load_state_dict(state_dict)\n",
    "    return policy\n",
    "        \n",
    "policy = get_policy(args[\"policy\"])\n",
    "print(policy.layer1.bias)#.params[\"layer1.bias\"])"
   ]
  },
  {
   "cell_type": "code",
   "execution_count": 11,
   "metadata": {},
   "outputs": [
    {
     "data": {
      "image/png": "[encoded data removed]",
      "text/plain": [
       "<Figure size 576x576 with 1 Axes>"
      ]
     },
     "metadata": {
      "needs_background": "light"
     },
     "output_type": "display_data"
    }
   ],
   "source": [
    "observations = env.reset()\n",
    "img = env.render('rgb_array')\n",
    "show_maze(img, \"First maze\")"
   ]
  },
  {
   "cell_type": "code",
   "execution_count": 12,
   "metadata": {},
   "outputs": [],
   "source": [
    "def run_policy(env, observations=None, params=None):\n",
    "    if observations.all == None:\n",
    "        observations = env.reset()\n",
    "    data = []\n",
    "    path = [env.maze.objects.agent.positions[0]]\n",
    "    count = 0\n",
    "    reward = 0\n",
    "    with torch.no_grad():\n",
    "        while not (env.maze.objects.agent.positions == env.maze.objects.goal.positions) and count < 50:\n",
    "            observations_tensor = torch.from_numpy(observations)\n",
    "            pi = policy(observations_tensor, params=params)\n",
    "            actions_tensor = pi.sample()\n",
    "            actions = actions_tensor.cpu().numpy()\n",
    "\n",
    "            new_observations, rewards, _, infos = env.step(actions)\n",
    "\n",
    "            data.append({ \"observations\": observations, \"actions\": actions, \"rewards\": rewards })\n",
    "            observations = new_observations\n",
    "            path.append(env.maze.objects.agent.positions[0])\n",
    "            count += 1\n",
    "            reward += rewards\n",
    "    return data, np.array(path), reward"
   ]
  },
  {
   "cell_type": "code",
   "execution_count": 13,
   "metadata": {},
   "outputs": [],
   "source": [
    "def show_policy(env, params, title):\n",
    "    observations = env.reset()\n",
    "    maze_original = observations.reshape(height,width)\n",
    "    data, path, reward = run_policy(env, observations, params)\n",
    "\n",
    "    maze_original[path[:,0], path[:,1]] = 4\n",
    "    maze_original[path[0,0], path[0,1]] = 2\n",
    "    maze_original[path[-1,0], path[-1,1]] = 3\n",
    "    show_maze(maze_original, title + \" - reward = {0}\".format(round(reward, 2)))"
   ]
  },
  {
   "cell_type": "code",
   "execution_count": 14,
   "metadata": {},
   "outputs": [
    {
     "data": {
      "image/png": "[encoded data removed]",
      "text/plain": [
       "<Figure size 576x576 with 1 Axes>"
      ]
     },
     "metadata": {
      "needs_background": "light"
     },
     "output_type": "display_data"
    }
   ],
   "source": [
    "maze_original = observations.reshape(height,width)\n",
    "data, path, reward = run_policy(env, observations)\n",
    "\n",
    "maze_original[path[:,0], path[:,1]] = 4\n",
    "maze_original[path[0,0], path[0,1]] = 2\n",
    "maze_original[path[-1,0], path[-1,1]] = 3\n",
    "show_maze(maze_original, \"Path without demonstration: reward = {0}\".format(round(reward, 2)))"
   ]
  },
  {
   "cell_type": "markdown",
   "metadata": {},
   "source": [
    "## Update with example:"
   ]
  },
  {
   "cell_type": "code",
   "execution_count": 15,
   "metadata": {},
   "outputs": [],
   "source": [
    "class Episodes:\n",
    "    def __init__(self, batch_size, actions, rewards, observations):\n",
    "        self.batch_size = batch_size\n",
    "        self.actions = actions\n",
    "        self.rewards = rewards\n",
    "        self.observations = observations\n",
    "        self.observation_shape = observations.shape[2:]\n",
    "        self._lengths = None\n",
    "        \n",
    "    @property\n",
    "    def lengths(self):\n",
    "        if self._lengths is None:\n",
    "            self._lengths = [len(rewards) for rewards in self.rewards]\n",
    "        return self._lengths\n",
    "    \n",
    "    def __len__(self):\n",
    "        return max(self.lengths)"
   ]
  },
  {
   "cell_type": "code",
   "execution_count": 45,
   "metadata": {},
   "outputs": [],
   "source": [
    "def train_iter(policy, params=None):\n",
    "    observations = env.reset()\n",
    "    maze_image = env.get_image()\n",
    "    impassable_array = env.unwrapped.maze.to_impassable()\n",
    "    motions = env.unwrapped.motions\n",
    "    start = env.unwrapped.maze.objects.agent.positions[0]\n",
    "    goal = env.unwrapped.maze.objects.goal.positions[0]\n",
    "    actions = dijkstra_solver(impassable_array, motions, start, goal)\n",
    "    rewards = []\n",
    "    observations = []\n",
    "    for action in actions:\n",
    "        observation, reward, _, infos = env.step(action)\n",
    "        rewards.append(reward)\n",
    "        observations.append(observation)\n",
    "        \n",
    "    actions      = torch.tensor([actions])\n",
    "    rewards      = torch.tensor([rewards])\n",
    "    observations = torch.tensor([observations])\n",
    "    \n",
    "    episodes = Episodes(1, actions, rewards, observations)\n",
    "    \n",
    "    loss = reinforce_loss(policy, episodes, params=params)\n",
    "    params = policy.update_params(loss,\n",
    "                                  params=params,\n",
    "                                  step_size=fast_lr,\n",
    "                                  first_order=True)\n",
    "    print(np.array(sum(rewards[0])))\n",
    "    show_maze(maze_image, \"dijkstra - reward = {0}\".format(round(np.array(sum(rewards[0])), 2)))\n",
    "    return params"
   ]
  },
  {
   "cell_type": "code",
   "execution_count": 46,
   "metadata": {},
   "outputs": [
    {
     "name": "stdout",
     "output_type": "stream",
     "text": [
      "0.5500002\n"
     ]
    },
    {
     "ename": "TypeError",
     "evalue": "type numpy.ndarray doesn't define __round__ method",
     "output_type": "error",
     "traceback": [
      "\u001b[0;31m---------------------------------------------------------------------------\u001b[0m",
      "\u001b[0;31mTypeError\u001b[0m                                 Traceback (most recent call last)",
      "\u001b[0;32m<ipython-input-46-ef1e1161e543>\u001b[0m in \u001b[0;36m<module>\u001b[0;34m\u001b[0m\n\u001b[0;32m----> 1\u001b[0;31m \u001b[0mparams1\u001b[0m \u001b[0;34m=\u001b[0m \u001b[0mtrain_iter\u001b[0m\u001b[0;34m(\u001b[0m\u001b[0mpolicy\u001b[0m\u001b[0;34m)\u001b[0m\u001b[0;34m\u001b[0m\u001b[0;34m\u001b[0m\u001b[0m\n\u001b[0m",
      "\u001b[0;32m<ipython-input-45-0e9e5b69cecb>\u001b[0m in \u001b[0;36mtrain_iter\u001b[0;34m(policy, params)\u001b[0m\n\u001b[1;32m     26\u001b[0m                                   first_order=True)\n\u001b[1;32m     27\u001b[0m     \u001b[0mprint\u001b[0m\u001b[0;34m(\u001b[0m\u001b[0mnp\u001b[0m\u001b[0;34m.\u001b[0m\u001b[0marray\u001b[0m\u001b[0;34m(\u001b[0m\u001b[0msum\u001b[0m\u001b[0;34m(\u001b[0m\u001b[0mrewards\u001b[0m\u001b[0;34m[\u001b[0m\u001b[0;36m0\u001b[0m\u001b[0;34m]\u001b[0m\u001b[0;34m)\u001b[0m\u001b[0;34m)\u001b[0m\u001b[0;34m)\u001b[0m\u001b[0;34m\u001b[0m\u001b[0;34m\u001b[0m\u001b[0m\n\u001b[0;32m---> 28\u001b[0;31m     \u001b[0mshow_maze\u001b[0m\u001b[0;34m(\u001b[0m\u001b[0mmaze_image\u001b[0m\u001b[0;34m,\u001b[0m \u001b[0;34m\"dijkstra - reward = {0}\"\u001b[0m\u001b[0;34m.\u001b[0m\u001b[0mformat\u001b[0m\u001b[0;34m(\u001b[0m\u001b[0mround\u001b[0m\u001b[0;34m(\u001b[0m\u001b[0mnp\u001b[0m\u001b[0;34m.\u001b[0m\u001b[0marray\u001b[0m\u001b[0;34m(\u001b[0m\u001b[0msum\u001b[0m\u001b[0;34m(\u001b[0m\u001b[0mrewards\u001b[0m\u001b[0;34m[\u001b[0m\u001b[0;36m0\u001b[0m\u001b[0;34m]\u001b[0m\u001b[0;34m)\u001b[0m\u001b[0;34m)\u001b[0m\u001b[0;34m,\u001b[0m \u001b[0;36m2\u001b[0m\u001b[0;34m)\u001b[0m\u001b[0;34m)\u001b[0m\u001b[0;34m)\u001b[0m\u001b[0;34m\u001b[0m\u001b[0;34m\u001b[0m\u001b[0m\n\u001b[0m\u001b[1;32m     29\u001b[0m     \u001b[0;32mreturn\u001b[0m \u001b[0mparams\u001b[0m\u001b[0;34m\u001b[0m\u001b[0;34m\u001b[0m\u001b[0m\n",
      "\u001b[0;31mTypeError\u001b[0m: type numpy.ndarray doesn't define __round__ method"
     ]
    }
   ],
   "source": [
    "params1 = train_iter(policy)"
   ]
  },
  {
   "cell_type": "markdown",
   "metadata": {},
   "source": [
    "## Check outcome after 1 iteration:"
   ]
  },
  {
   "cell_type": "code",
   "execution_count": 18,
   "metadata": {},
   "outputs": [
    {
     "data": {
      "image/png": "[encoded data removed]",
      "text/plain": [
       "<Figure size 576x576 with 1 Axes>"
      ]
     },
     "metadata": {
      "needs_background": "light"
     },
     "output_type": "display_data"
    }
   ],
   "source": [
    "show_policy(env, params1, \"Path after 1 demonstration\")"
   ]
  },
  {
   "cell_type": "markdown",
   "metadata": {},
   "source": [
    "## After 20 iterations"
   ]
  },
  {
   "cell_type": "code",
   "execution_count": 19,
   "metadata": {},
   "outputs": [
    {
     "name": "stdout",
     "output_type": "stream",
     "text": [
      "tensor([-0.0044, -0.0131,  0.0164,  0.0011], grad_fn=<SubBackward0>)\n"
     ]
    },
    {
     "data": {
      "image/png": "[encoded data removed]",
      "text/plain": [
       "<Figure size 576x576 with 1 Axes>"
      ]
     },
     "metadata": {
      "needs_background": "light"
     },
     "output_type": "display_data"
    },
    {
     "data": {
      "image/png": "[encoded data removed]",
      "text/plain": [
       "<Figure size 576x576 with 1 Axes>"
      ]
     },
     "metadata": {
      "needs_background": "light"
     },
     "output_type": "display_data"
    }
   ],
   "source": [
    "params2 = params1\n",
    "for ii in range(1):\n",
    "    print(params2[\"layer3.bias\"])\n",
    "    params2 = train_iter(policy, params2)\n",
    "\n",
    "show_policy(env, params2, \"Path after 10 demonstrations\")"
   ]
  },
  {
   "cell_type": "code",
   "execution_count": null,
   "metadata": {},
   "outputs": [],
   "source": []
  }
 ],
 "metadata": {
  "kernelspec": {
   "display_name": "Python 3",
   "language": "python",
   "name": "python3"
  },
  "language_info": {
   "codemirror_mode": {
    "name": "ipython",
    "version": 3
   },
   "file_extension": ".py",
   "mimetype": "text/x-python",
   "name": "python",
   "nbconvert_exporter": "python",
   "pygments_lexer": "ipython3",
   "version": "3.8.5"
  }
 },
 "nbformat": 4,
 "nbformat_minor": 4
}
