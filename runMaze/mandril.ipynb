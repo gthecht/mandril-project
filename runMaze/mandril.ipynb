{
 "cells": [
  {
   "cell_type": "markdown",
   "metadata": {},
   "source": [
    "## Imports"
   ]
  },
  {
   "cell_type": "code",
   "execution_count": 1,
   "metadata": {},
   "outputs": [],
   "source": [
    "import os, sys\n",
    "currentdir = os.path.dirname(os.path.realpath(\"mandril.ipynb\"))\n",
    "parentdir = os.path.dirname(currentdir)\n",
    "sys.path.append(parentdir)\n",
    "\n",
    "import numpy as np\n",
    "import gym\n",
    "import torch\n",
    "import json\n",
    "import numpy as np\n",
    "from tqdm import trange\n",
    "\n",
    "import maml_rl.envs\n",
    "from maml_rl.baseline import LinearFeatureBaseline\n",
    "from maml_rl.samplers import MultiTaskSampler\n",
    "from maml_rl.utils.helpers import get_policy_for_env, get_input_size\n",
    "from maml_rl.utils.reinforcement_learning import get_returns, reinforce_loss\n",
    "\n",
    "from mazelab import MazeEnv\n",
    "from mazelab.solvers import dijkstra_solver"
   ]
  },
  {
   "cell_type": "code",
   "execution_count": 2,
   "metadata": {},
   "outputs": [],
   "source": [
    "def show_maze(maze, title=None):\n",
    "    fig = plt.figure(figsize=(8,8))\n",
    "    plt.imshow(maze)\n",
    "    if title:\n",
    "        plt.title(title)\n",
    "    plt.show()"
   ]
  },
  {
   "cell_type": "code",
   "execution_count": 3,
   "metadata": {},
   "outputs": [],
   "source": [
    "with np.load(\"../maml-randomShapeMaze/results.npz\") as data_file:\n",
    "    logs = {\n",
    "        \"tasks\": data_file[\"tasks\"],\n",
    "        \"train_returns\" : data_file[\"train_returns\"],\n",
    "        \"valid_returns\" : data_file[\"valid_returns\"],\n",
    "        # \"train_episodes\" : data_file[\"train_episodes\"],\n",
    "        # \"valid_episodes\" : data_file[\"valid_episodes\"],\n",
    "    }"
   ]
  },
  {
   "cell_type": "code",
   "execution_count": 4,
   "metadata": {},
   "outputs": [
    {
     "data": {
      "text/plain": [
       "(160, 10, 10)"
      ]
     },
     "metadata": {},
     "output_type": "display_data"
    },
    {
     "data": {
      "text/plain": [
       "(160, 20)"
      ]
     },
     "metadata": {},
     "output_type": "display_data"
    },
    {
     "data": {
      "text/plain": [
       "(160, 20)"
      ]
     },
     "metadata": {},
     "output_type": "display_data"
    }
   ],
   "source": [
    "display(logs[\"tasks\"].shape)\n",
    "display(logs[\"train_returns\"].shape)\n",
    "display(logs[\"valid_returns\"].shape)"
   ]
  },
  {
   "cell_type": "code",
   "execution_count": 5,
   "metadata": {},
   "outputs": [
    {
     "data": {
      "text/plain": [
       "array([[1, 1, 1, 1, 1, 1, 1, 1, 1, 1],\n",
       "       [1, 0, 0, 1, 1, 0, 0, 0, 0, 1],\n",
       "       [1, 0, 1, 1, 1, 0, 0, 0, 0, 1],\n",
       "       [1, 0, 1, 1, 0, 1, 1, 0, 0, 1],\n",
       "       [1, 0, 0, 0, 0, 1, 1, 0, 0, 1],\n",
       "       [1, 0, 0, 0, 0, 0, 0, 0, 0, 1],\n",
       "       [1, 0, 0, 0, 0, 0, 0, 1, 0, 1],\n",
       "       [1, 0, 0, 0, 0, 0, 0, 1, 1, 1],\n",
       "       [1, 0, 0, 0, 0, 0, 0, 1, 1, 1],\n",
       "       [1, 1, 1, 1, 1, 1, 1, 1, 1, 1]], dtype=uint8)"
      ]
     },
     "metadata": {},
     "output_type": "display_data"
    },
    {
     "data": {
      "text/plain": [
       "array([0.949     , 0.9455    , 0.959     , 0.95250005, 0.9534999 ,\n",
       "       0.95150006, 0.9425001 , 0.959     , 0.954     , 0.96449995,\n",
       "       0.95800006, 0.9585    , 0.94850004, 0.96400005, 0.96049994,\n",
       "       0.94700015, 0.9400002 , 0.9445001 , 0.9500001 , 0.96150005,\n",
       "       0.9549999 , 0.94299996, 0.95250005, 0.949     , 0.952     ,\n",
       "       0.95300007, 0.9685    , 0.959     , 0.9370001 , 0.95600003,\n",
       "       0.9610001 , 0.9495001 , 0.9674999 , 0.96050006, 0.9625    ,\n",
       "       0.95150006, 0.9505    , 0.96049994, 0.95500004, 0.95      ,\n",
       "       0.9415    , 0.962     , 0.952     , 0.939     , 0.9525    ,\n",
       "       0.9535001 , 0.9495001 , 0.94949996, 0.96449995, 0.9495001 ,\n",
       "       0.96099997, 0.94750005, 0.95199996, 0.9655    , 0.95250005,\n",
       "       0.9525    , 0.95300007, 0.947     , 0.96099985, 0.94700015,\n",
       "       0.9570001 , 0.95050013, 0.9410001 , 0.95      , 0.9525    ,\n",
       "       0.9535    , 0.949     , 0.9415    , 0.9585    , 0.95800006,\n",
       "       0.9545    , 0.95600003, 0.9595    , 0.94350016, 0.94750005,\n",
       "       0.9565002 , 0.9635    , 0.952     , 0.9655    , 0.9575001 ,\n",
       "       0.95500004, 0.9480001 , 0.9535001 , 0.9585    , 0.9615    ,\n",
       "       0.9550001 , 0.9535001 , 0.9630001 , 0.9419999 , 0.9564999 ,\n",
       "       0.96099985, 0.9685    , 0.95500004, 0.9655    , 0.954     ,\n",
       "       0.949     , 0.95700014, 0.9460001 , 0.96500015, 0.95050013,\n",
       "       0.95800006, 0.9480001 , 0.96550006, 0.94850016, 0.9585    ,\n",
       "       0.95150006, 0.94900006, 0.9500001 , 0.9425    , 0.96049994,\n",
       "       0.9490002 , 0.9500001 , 0.958     , 0.9544999 , 0.95800006,\n",
       "       0.94750005, 0.962     , 0.94200003, 0.9575    , 0.95649993,\n",
       "       0.9585    , 0.9495001 , 0.95150006, 0.962     , 0.9370001 ,\n",
       "       0.95600003, 0.9625    , 0.9545    , 0.95250005, 0.9465    ,\n",
       "       0.96000004, 0.9595    , 0.9505    , 0.9505    , 0.956     ,\n",
       "       0.96000004, 0.9525    , 0.96099997, 0.96050006, 0.9545    ,\n",
       "       0.94800013, 0.95700014, 0.95250005, 0.95650005, 0.9445001 ,\n",
       "       0.9460001 , 0.94850004, 0.94200003, 0.95100003, 0.9500001 ,\n",
       "       0.9615    , 0.9500001 , 0.9425001 , 0.956     , 0.9585001 ,\n",
       "       0.945     , 0.96599996, 0.9510001 , 0.9544999 , 0.9545    ],\n",
       "      dtype=float32)"
      ]
     },
     "metadata": {},
     "output_type": "display_data"
    },
    {
     "data": {
      "text/plain": [
       "array([ -59.415   ,  -73.261   , -178.36201 ,  -28.408005,  -93.9115  ,\n",
       "        -70.1025  ,  -39.222504,  -23.130001,  -49.669   ,  -67.8715  ,\n",
       "       -195.96852 ,  -74.5085  ,  -99.995995,  -58.670006,  -12.6795  ,\n",
       "        -49.594   ,  -71.687996,  -41.2935  , -186.1215  ,  -43.803505,\n",
       "        -51.191498,  -76.48399 ,  -78.082   ,  -65.6845  ,  -45.039   ,\n",
       "        -44.966007,  -72.1815  ,  -59.55351 ,  -77.6255  ,  -72.52    ,\n",
       "        -72.217   ,  -60.091503,  -81.5265  ,  -59.8485  , -165.7825  ,\n",
       "        -69.309494,  -89.30501 ,  -43.521503,  -54.65101 ,  -63.5765  ,\n",
       "        -61.4805  , -125.93251 ,  -84.54849 ,  -49.452003,  -67.47749 ,\n",
       "        -91.1265  ,  -48.8585  ,  -75.3885  ,  -54.754498,  -48.762997,\n",
       "        -39.6535  ,  -42.536003,  -64.007996,  -89.25351 ,  -30.601002,\n",
       "       -167.46251 ,  -51.392494, -173.7165  , -110.351   ,  -51.441994,\n",
       "        -69.764   ,  -80.493   ,  -52.127502,  -36.185505, -165.63303 ,\n",
       "       -146.43301 ,  -63.273003, -119.25452 ,  -87.22101 ,  -79.413   ,\n",
       "        -60.349007,  -39.752506,  -97.567   ,  -45.736004, -102.1325  ,\n",
       "        -10.791   ,  -82.271996,  -56.794   , -146.66501 ,  -70.253494,\n",
       "        -60.942005,  -65.490005, -105.24501 , -100.538994,  -30.407501,\n",
       "       -176.67352 ,  -60.934998,  -76.69701 ,  -74.261   ,  -68.6565  ,\n",
       "       -165.42752 , -158.80699 , -179.53351 ,  -33.663002,  -47.7255  ,\n",
       "        -42.2865  ,  -51.028004,  -60.304005,  -74.791   ,  -59.121502,\n",
       "        -59.6115  ,  -68.941505,  -30.353003,  -42.731003,  -88.709496,\n",
       "        -67.683   , -107.47699 ,  -58.810005,  -82.52501 , -127.520996,\n",
       "        -59.067505,  -70.139496,  -54.983498,  -73.557   ,  -49.7555  ,\n",
       "        -39.2545  ,  -60.051994,  -21.641499,  -63.752003,  -99.404495,\n",
       "       -159.98602 ,  -78.91301 , -157.04253 , -108.975   ,  -51.429497,\n",
       "        -69.663   , -161.46902 ,  -50.793507,  -91.788994,  -75.59901 ,\n",
       "        -68.866005,  -61.252495,  -62.567497,  -60.857502,  -99.3925  ,\n",
       "       -176.91753 ,  -41.239002,  -49.695503, -157.36601 , -134.7955  ,\n",
       "        -89.851   , -166.11952 ,  -59.691998,  -68.71551 , -133.60751 ,\n",
       "        -84.942   ,  -79.754005,  -79.95749 ,  -40.288998,  -73.108505,\n",
       "        -70.05101 ,  -90.838   ,  -53.65751 , -167.45851 ,  -66.332504,\n",
       "        -54.458008,  -53.757996,  -91.73399 , -110.83201 ,  -50.65    ],\n",
       "      dtype=float32)"
      ]
     },
     "metadata": {},
     "output_type": "display_data"
    }
   ],
   "source": [
    "display(logs[\"tasks\"][0])\n",
    "display(np.mean(logs[\"train_returns\"],1))\n",
    "display(np.mean(logs[\"valid_returns\"],1))"
   ]
  },
  {
   "cell_type": "code",
   "execution_count": 6,
   "metadata": {},
   "outputs": [
    {
     "data": {
      "image/png": "[encoded data removed]",
      "text/plain": [
       "<Figure size 576x576 with 1 Axes>"
      ]
     },
     "metadata": {
      "needs_background": "light"
     },
     "output_type": "display_data"
    }
   ],
   "source": [
    "import matplotlib.pyplot as plt\n",
    "\n",
    "x = logs[\"tasks\"][0]\n",
    "show_maze(x)"
   ]
  },
  {
   "cell_type": "code",
   "execution_count": 7,
   "metadata": {},
   "outputs": [],
   "source": [
    "import argparse\n",
    "parser = argparse.ArgumentParser(\n",
    "    description='Reinforcement learning with Model-Agnostic Meta-Learning (MAML) - Test')\n",
    "\n",
    "args = {\n",
    "\"config\": \"../maml-randomShapeMaze/config.json\",\n",
    "\"policy\": \"../maml-randomShapeMaze/policy.th\",\n",
    "\n",
    "# Evaluation\n",
    "\"num_batches\": 1,\n",
    "\"meta_batch_size\": 1,\n",
    "\n",
    "# Miscellaneous\n",
    "\"output\": \"maml-randomShapeMaze/results.npz\",\n",
    "\"seed\": None,\n",
    "\"num_workers\": 1,\n",
    "\"device\": ('cpu'),\n",
    "}\n",
    "\n",
    "height = 10\n",
    "width = 10"
   ]
  },
  {
   "cell_type": "code",
   "execution_count": 8,
   "metadata": {},
   "outputs": [],
   "source": [
    "try:\n",
    "    gym.envs.register(\n",
    "        id=\"RandomShapeMaze-v0\",\n",
    "        entry_point=MazeEnv,\n",
    "        max_episode_steps=200,\n",
    "        kwargs={\"width\": 10, \"height\": 10, \"max_shapes\": 5,\n",
    "                \"max_size\": 2, \"allow_overlap\": False, \"shape\": None}\n",
    "    )\n",
    "except:\n",
    "    print(\"environment already registered\")"
   ]
  },
  {
   "cell_type": "code",
   "execution_count": 9,
   "metadata": {},
   "outputs": [],
   "source": [
    "with open(args[\"config\"], 'r') as f:\n",
    "    config = json.load(f)\n",
    "    if 'env-kwargs' not in config.keys(): config['env-kwargs'] = {}\n",
    "\n",
    "env = gym.make(config['env-name'], **config['env-kwargs'])\n",
    "env.close()\n",
    "\n",
    "# configs:\n",
    "fast_lr = config[\"fast-lr\"]"
   ]
  },
  {
   "cell_type": "code",
   "execution_count": 10,
   "metadata": {},
   "outputs": [
    {
     "name": "stdout",
     "output_type": "stream",
     "text": [
      "Parameter containing:\n",
      "tensor([ 0.9675,  0.0920,  3.1693,  0.3888,  0.5249,  0.1662, -0.1650,  1.6500,\n",
      "         1.0579,  0.3223,  1.8217,  1.7870,  1.2980,  0.6766,  0.6279,  1.3287],\n",
      "       requires_grad=True)\n"
     ]
    }
   ],
   "source": [
    "def get_policy(policy_path):\n",
    "    policy = get_policy_for_env(env,\n",
    "                                hidden_sizes=config['hidden-sizes'],\n",
    "                                nonlinearity=config['nonlinearity'])\n",
    "    with open(policy_path, 'rb') as f:\n",
    "        state_dict = torch.load(f, map_location=torch.device(args[\"device\"]))\n",
    "        policy.load_state_dict(state_dict)\n",
    "    return policy\n",
    "        \n",
    "policy = get_policy(args[\"policy\"])\n",
    "print(policy.layer1.bias)#.params[\"layer1.bias\"])"
   ]
  },
  {
   "cell_type": "code",
   "execution_count": 11,
   "metadata": {},
   "outputs": [
    {
     "data": {
      "image/png": "[encoded data removed]",
      "text/plain": [
       "<Figure size 576x576 with 1 Axes>"
      ]
     },
     "metadata": {
      "needs_background": "light"
     },
     "output_type": "display_data"
    }
   ],
   "source": [
    "observations = env.reset()\n",
    "img = env.render('rgb_array')\n",
    "show_maze(img, \"First maze\")"
   ]
  },
  {
   "cell_type": "code",
   "execution_count": 12,
   "metadata": {},
   "outputs": [],
   "source": [
    "def run_policy(env, observations=None, params=None):\n",
    "    if observations.all == None:\n",
    "        observations = env.reset()\n",
    "    data = []\n",
    "    path = [env.maze.objects.agent.positions[0]]\n",
    "    count = 0\n",
    "    reward = 0\n",
    "    with torch.no_grad():\n",
    "        while not (env.maze.objects.agent.positions == env.maze.objects.goal.positions) and count < 50:\n",
    "            observations_tensor = torch.from_numpy(observations)\n",
    "            pi = policy(observations_tensor, params=params)\n",
    "            actions_tensor = pi.sample()\n",
    "            actions = actions_tensor.cpu().numpy()\n",
    "            print(actions[0])\n",
    "\n",
    "            new_observations, rewards, _, infos = env.step(actions[0])\n",
    "\n",
    "            data.append({ \"observations\": observations, \"actions\": actions, \"rewards\": rewards })\n",
    "            observations = np.expand_dims(new_observations, 0)\n",
    "            path.append(env.maze.objects.agent.positions[0])\n",
    "            count += 1\n",
    "            reward += rewards\n",
    "    return data, np.array(path), reward"
   ]
  },
  {
   "cell_type": "code",
   "execution_count": 13,
   "metadata": {},
   "outputs": [],
   "source": [
    "def show_policy(env, params, title):\n",
    "    observations = env.reset()\n",
    "    maze_original = observations.reshape(height,width)\n",
    "    data, path, reward = run_policy(env, observations, params)\n",
    "\n",
    "    maze_original[path[:,0], path[:,1]] = 4\n",
    "    maze_original[path[0,0], path[0,1]] = 2\n",
    "    maze_original[path[-1,0], path[-1,1]] = 3\n",
    "    show_maze(maze_original, title + \" - reward = {0}\".format(round(reward, 2)))"
   ]
  },
  {
   "cell_type": "code",
   "execution_count": 14,
   "metadata": {},
   "outputs": [
    {
     "data": {
      "text/plain": [
       "array([[1, 1, 1, 1, 1, 1, 1, 1, 1, 1],\n",
       "       [1, 0, 0, 0, 0, 0, 0, 1, 0, 1],\n",
       "       [1, 0, 0, 0, 0, 0, 1, 0, 2, 1],\n",
       "       [1, 0, 0, 0, 0, 0, 3, 0, 0, 1],\n",
       "       [1, 0, 0, 0, 0, 0, 0, 0, 0, 1],\n",
       "       [1, 1, 1, 0, 0, 0, 0, 0, 0, 1],\n",
       "       [1, 1, 1, 0, 0, 0, 0, 0, 0, 1],\n",
       "       [1, 0, 1, 1, 0, 0, 0, 0, 0, 1],\n",
       "       [1, 0, 1, 1, 0, 0, 0, 0, 0, 1],\n",
       "       [1, 1, 1, 1, 1, 1, 1, 1, 1, 1]], dtype=uint8)"
      ]
     },
     "metadata": {},
     "output_type": "display_data"
    },
    {
     "data": {
      "text/plain": [
       "array([[[1., 1., 1., 1., 1., 1., 1., 1., 1., 1.],\n",
       "        [1., 0., 0., 0., 0., 0., 0., 1., 0., 1.],\n",
       "        [1., 0., 0., 0., 0., 0., 1., 0., 2., 1.],\n",
       "        [1., 0., 0., 0., 0., 0., 3., 0., 0., 1.],\n",
       "        [1., 0., 0., 0., 0., 0., 0., 0., 0., 1.],\n",
       "        [1., 1., 1., 0., 0., 0., 0., 0., 0., 1.],\n",
       "        [1., 1., 1., 0., 0., 0., 0., 0., 0., 1.],\n",
       "        [1., 0., 1., 1., 0., 0., 0., 0., 0., 1.],\n",
       "        [1., 0., 1., 1., 0., 0., 0., 0., 0., 1.],\n",
       "        [1., 1., 1., 1., 1., 1., 1., 1., 1., 1.]]])"
      ]
     },
     "metadata": {},
     "output_type": "display_data"
    }
   ],
   "source": [
    "observations2 = (observations.astype(float)[None,:,:])\n",
    "display(observations)\n",
    "display(observations2)"
   ]
  },
  {
   "cell_type": "code",
   "execution_count": 15,
   "metadata": {},
   "outputs": [
    {
     "name": "stdout",
     "output_type": "stream",
     "text": [
      "1\n",
      "1\n",
      "1\n",
      "1\n",
      "1\n",
      "1\n",
      "2\n",
      "3\n",
      "2\n",
      "3\n",
      "2\n",
      "3\n",
      "2\n",
      "3\n",
      "2\n",
      "3\n",
      "2\n",
      "3\n",
      "2\n",
      "3\n",
      "2\n",
      "3\n",
      "2\n",
      "3\n",
      "2\n",
      "3\n",
      "2\n",
      "3\n",
      "2\n",
      "3\n",
      "2\n",
      "3\n",
      "2\n",
      "3\n",
      "2\n",
      "3\n",
      "2\n",
      "3\n",
      "2\n",
      "3\n",
      "2\n",
      "3\n",
      "2\n",
      "3\n",
      "2\n",
      "3\n",
      "2\n",
      "3\n",
      "2\n",
      "3\n"
     ]
    },
    {
     "data": {
      "image/png": "[encoded data removed]",
      "text/plain": [
       "<Figure size 576x576 with 1 Axes>"
      ]
     },
     "metadata": {
      "needs_background": "light"
     },
     "output_type": "display_data"
    }
   ],
   "source": [
    "maze_original = observations.reshape(height,width)\n",
    "data, path, reward = run_policy(env, observations[None,:,:].astype('float32'))\n",
    "\n",
    "maze_original[path[:,0], path[:,1]] = 4\n",
    "maze_original[path[0,0], path[0,1]] = 2\n",
    "maze_original[path[-1,0], path[-1,1]] = 3\n",
    "show_maze(maze_original, \"Path without demonstration: reward = {0}\".format(round(reward, 2)))"
   ]
  },
  {
   "cell_type": "markdown",
   "metadata": {},
   "source": [
    "## Update with example:"
   ]
  },
  {
   "cell_type": "code",
   "execution_count": 16,
   "metadata": {},
   "outputs": [],
   "source": [
    "class Episodes:\n",
    "    def __init__(self, batch_size, actions, rewards, observations):\n",
    "        self.batch_size = batch_size\n",
    "        self.actions = actions\n",
    "        self.rewards = rewards\n",
    "        self.observations = observations\n",
    "        self.observation_shape = observations.shape[2:]\n",
    "        self._lengths = None\n",
    "        \n",
    "    @property\n",
    "    def lengths(self):\n",
    "        if self._lengths is None:\n",
    "            self._lengths = [len(rewards) for rewards in self.rewards]\n",
    "        return self._lengths\n",
    "    \n",
    "    def __len__(self):\n",
    "        return max(self.lengths)"
   ]
  },
  {
   "cell_type": "code",
   "execution_count": 21,
   "metadata": {},
   "outputs": [],
   "source": [
    "def train_iter(policy, params=None):\n",
    "    observations = env.reset()\n",
    "    maze_image = env.get_image()\n",
    "    impassable_array = env.unwrapped.maze.to_impassable()\n",
    "    motions = env.unwrapped.motions\n",
    "    start = env.unwrapped.maze.objects.agent.positions[0]\n",
    "    goal = env.unwrapped.maze.objects.goal.positions[0]\n",
    "    actions = dijkstra_solver(impassable_array, motions, start, goal)\n",
    "    rewards = []\n",
    "    observations = []\n",
    "    for action in actions:\n",
    "        observation, reward, _, infos = env.step(action)\n",
    "        rewards.append(reward)\n",
    "        observations.append(observation)\n",
    "        \n",
    "    actions      = torch.tensor([actions])\n",
    "    rewards      = torch.tensor([rewards])\n",
    "    observations = torch.tensor([observations])\n",
    "    \n",
    "    episodes = Episodes(1, actions, rewards, observations)\n",
    "    \n",
    "    loss = reinforce_loss(policy, episodes, params=params)\n",
    "    params = policy.update_params(loss,\n",
    "                                  params=params,\n",
    "                                  step_size=fast_lr,\n",
    "                                  first_order=True)\n",
    "    print(np.array(sum(rewards[0])))\n",
    "    show_maze(maze_image, \"dijkstra - reward = {0}\".format(np.round(np.array(sum(rewards[0])), 2)))\n",
    "    return params"
   ]
  },
  {
   "cell_type": "code",
   "execution_count": 22,
   "metadata": {},
   "outputs": [
    {
     "name": "stdout",
     "output_type": "stream",
     "text": [
      "0.95\n"
     ]
    },
    {
     "data": {
      "image/png": "[encoded data removed]",
      "text/plain": [
       "<Figure size 576x576 with 1 Axes>"
      ]
     },
     "metadata": {
      "needs_background": "light"
     },
     "output_type": "display_data"
    }
   ],
   "source": [
    "params1 = train_iter(policy)"
   ]
  },
  {
   "cell_type": "markdown",
   "metadata": {},
   "source": [
    "## Check outcome after 1 iteration:"
   ]
  },
  {
   "cell_type": "code",
   "execution_count": 23,
   "metadata": {},
   "outputs": [
    {
     "ename": "IndexError",
     "evalue": "tuple index out of range",
     "output_type": "error",
     "traceback": [
      "\u001b[0;31m---------------------------------------------------------------------------\u001b[0m",
      "\u001b[0;31mIndexError\u001b[0m                                Traceback (most recent call last)",
      "\u001b[0;32m<ipython-input-23-2ca6645dff28>\u001b[0m in \u001b[0;36m<module>\u001b[0;34m\u001b[0m\n\u001b[0;32m----> 1\u001b[0;31m \u001b[0mshow_policy\u001b[0m\u001b[0;34m(\u001b[0m\u001b[0menv\u001b[0m\u001b[0;34m,\u001b[0m \u001b[0mparams1\u001b[0m\u001b[0;34m,\u001b[0m \u001b[0;34m\"Path after 1 demonstration\"\u001b[0m\u001b[0;34m)\u001b[0m\u001b[0;34m\u001b[0m\u001b[0;34m\u001b[0m\u001b[0m\n\u001b[0m",
      "\u001b[0;32m<ipython-input-13-f60b37256f09>\u001b[0m in \u001b[0;36mshow_policy\u001b[0;34m(env, params, title)\u001b[0m\n\u001b[1;32m      2\u001b[0m     \u001b[0mobservations\u001b[0m \u001b[0;34m=\u001b[0m \u001b[0menv\u001b[0m\u001b[0;34m.\u001b[0m\u001b[0mreset\u001b[0m\u001b[0;34m(\u001b[0m\u001b[0;34m)\u001b[0m\u001b[0;34m\u001b[0m\u001b[0;34m\u001b[0m\u001b[0m\n\u001b[1;32m      3\u001b[0m     \u001b[0mmaze_original\u001b[0m \u001b[0;34m=\u001b[0m \u001b[0mobservations\u001b[0m\u001b[0;34m.\u001b[0m\u001b[0mreshape\u001b[0m\u001b[0;34m(\u001b[0m\u001b[0mheight\u001b[0m\u001b[0;34m,\u001b[0m\u001b[0mwidth\u001b[0m\u001b[0;34m)\u001b[0m\u001b[0;34m\u001b[0m\u001b[0;34m\u001b[0m\u001b[0m\n\u001b[0;32m----> 4\u001b[0;31m     \u001b[0mdata\u001b[0m\u001b[0;34m,\u001b[0m \u001b[0mpath\u001b[0m\u001b[0;34m,\u001b[0m \u001b[0mreward\u001b[0m \u001b[0;34m=\u001b[0m \u001b[0mrun_policy\u001b[0m\u001b[0;34m(\u001b[0m\u001b[0menv\u001b[0m\u001b[0;34m,\u001b[0m \u001b[0mobservations\u001b[0m\u001b[0;34m,\u001b[0m \u001b[0mparams\u001b[0m\u001b[0;34m)\u001b[0m\u001b[0;34m\u001b[0m\u001b[0;34m\u001b[0m\u001b[0m\n\u001b[0m\u001b[1;32m      5\u001b[0m \u001b[0;34m\u001b[0m\u001b[0m\n\u001b[1;32m      6\u001b[0m     \u001b[0mmaze_original\u001b[0m\u001b[0;34m[\u001b[0m\u001b[0mpath\u001b[0m\u001b[0;34m[\u001b[0m\u001b[0;34m:\u001b[0m\u001b[0;34m,\u001b[0m\u001b[0;36m0\u001b[0m\u001b[0;34m]\u001b[0m\u001b[0;34m,\u001b[0m \u001b[0mpath\u001b[0m\u001b[0;34m[\u001b[0m\u001b[0;34m:\u001b[0m\u001b[0;34m,\u001b[0m\u001b[0;36m1\u001b[0m\u001b[0;34m]\u001b[0m\u001b[0;34m]\u001b[0m \u001b[0;34m=\u001b[0m \u001b[0;36m4\u001b[0m\u001b[0;34m\u001b[0m\u001b[0;34m\u001b[0m\u001b[0m\n",
      "\u001b[0;32m<ipython-input-12-f65179299079>\u001b[0m in \u001b[0;36mrun_policy\u001b[0;34m(env, observations, params)\u001b[0m\n\u001b[1;32m      9\u001b[0m         \u001b[0;32mwhile\u001b[0m \u001b[0;32mnot\u001b[0m \u001b[0;34m(\u001b[0m\u001b[0menv\u001b[0m\u001b[0;34m.\u001b[0m\u001b[0mmaze\u001b[0m\u001b[0;34m.\u001b[0m\u001b[0mobjects\u001b[0m\u001b[0;34m.\u001b[0m\u001b[0magent\u001b[0m\u001b[0;34m.\u001b[0m\u001b[0mpositions\u001b[0m \u001b[0;34m==\u001b[0m \u001b[0menv\u001b[0m\u001b[0;34m.\u001b[0m\u001b[0mmaze\u001b[0m\u001b[0;34m.\u001b[0m\u001b[0mobjects\u001b[0m\u001b[0;34m.\u001b[0m\u001b[0mgoal\u001b[0m\u001b[0;34m.\u001b[0m\u001b[0mpositions\u001b[0m\u001b[0;34m)\u001b[0m \u001b[0;32mand\u001b[0m \u001b[0mcount\u001b[0m \u001b[0;34m<\u001b[0m \u001b[0;36m50\u001b[0m\u001b[0;34m:\u001b[0m\u001b[0;34m\u001b[0m\u001b[0;34m\u001b[0m\u001b[0m\n\u001b[1;32m     10\u001b[0m             \u001b[0mobservations_tensor\u001b[0m \u001b[0;34m=\u001b[0m \u001b[0mtorch\u001b[0m\u001b[0;34m.\u001b[0m\u001b[0mfrom_numpy\u001b[0m\u001b[0;34m(\u001b[0m\u001b[0mobservations\u001b[0m\u001b[0;34m)\u001b[0m\u001b[0;34m\u001b[0m\u001b[0;34m\u001b[0m\u001b[0m\n\u001b[0;32m---> 11\u001b[0;31m             \u001b[0mpi\u001b[0m \u001b[0;34m=\u001b[0m \u001b[0mpolicy\u001b[0m\u001b[0;34m(\u001b[0m\u001b[0mobservations_tensor\u001b[0m\u001b[0;34m,\u001b[0m \u001b[0mparams\u001b[0m\u001b[0;34m=\u001b[0m\u001b[0mparams\u001b[0m\u001b[0;34m)\u001b[0m\u001b[0;34m\u001b[0m\u001b[0;34m\u001b[0m\u001b[0m\n\u001b[0m\u001b[1;32m     12\u001b[0m             \u001b[0mactions_tensor\u001b[0m \u001b[0;34m=\u001b[0m \u001b[0mpi\u001b[0m\u001b[0;34m.\u001b[0m\u001b[0msample\u001b[0m\u001b[0;34m(\u001b[0m\u001b[0;34m)\u001b[0m\u001b[0;34m\u001b[0m\u001b[0;34m\u001b[0m\u001b[0m\n\u001b[1;32m     13\u001b[0m             \u001b[0mactions\u001b[0m \u001b[0;34m=\u001b[0m \u001b[0mactions_tensor\u001b[0m\u001b[0;34m.\u001b[0m\u001b[0mcpu\u001b[0m\u001b[0;34m(\u001b[0m\u001b[0;34m)\u001b[0m\u001b[0;34m.\u001b[0m\u001b[0mnumpy\u001b[0m\u001b[0;34m(\u001b[0m\u001b[0;34m)\u001b[0m\u001b[0;34m\u001b[0m\u001b[0;34m\u001b[0m\u001b[0m\n",
      "\u001b[0;32m~/.local/lib/python3.8/site-packages/torch/nn/modules/module.py\u001b[0m in \u001b[0;36m_call_impl\u001b[0;34m(self, *input, **kwargs)\u001b[0m\n\u001b[1;32m    725\u001b[0m             \u001b[0mresult\u001b[0m \u001b[0;34m=\u001b[0m \u001b[0mself\u001b[0m\u001b[0;34m.\u001b[0m\u001b[0m_slow_forward\u001b[0m\u001b[0;34m(\u001b[0m\u001b[0;34m*\u001b[0m\u001b[0minput\u001b[0m\u001b[0;34m,\u001b[0m \u001b[0;34m**\u001b[0m\u001b[0mkwargs\u001b[0m\u001b[0;34m)\u001b[0m\u001b[0;34m\u001b[0m\u001b[0;34m\u001b[0m\u001b[0m\n\u001b[1;32m    726\u001b[0m         \u001b[0;32melse\u001b[0m\u001b[0;34m:\u001b[0m\u001b[0;34m\u001b[0m\u001b[0;34m\u001b[0m\u001b[0m\n\u001b[0;32m--> 727\u001b[0;31m             \u001b[0mresult\u001b[0m \u001b[0;34m=\u001b[0m \u001b[0mself\u001b[0m\u001b[0;34m.\u001b[0m\u001b[0mforward\u001b[0m\u001b[0;34m(\u001b[0m\u001b[0;34m*\u001b[0m\u001b[0minput\u001b[0m\u001b[0;34m,\u001b[0m \u001b[0;34m**\u001b[0m\u001b[0mkwargs\u001b[0m\u001b[0;34m)\u001b[0m\u001b[0;34m\u001b[0m\u001b[0;34m\u001b[0m\u001b[0m\n\u001b[0m\u001b[1;32m    728\u001b[0m         for hook in itertools.chain(\n\u001b[1;32m    729\u001b[0m                 \u001b[0m_global_forward_hooks\u001b[0m\u001b[0;34m.\u001b[0m\u001b[0mvalues\u001b[0m\u001b[0;34m(\u001b[0m\u001b[0;34m)\u001b[0m\u001b[0;34m,\u001b[0m\u001b[0;34m\u001b[0m\u001b[0;34m\u001b[0m\u001b[0m\n",
      "\u001b[0;32m~/Workspace/mandril-project/maml_rl/policies/categorical_mlp.py\u001b[0m in \u001b[0;36mforward\u001b[0;34m(self, input, params)\u001b[0m\n\u001b[1;32m     48\u001b[0m             \u001b[0moutput\u001b[0m \u001b[0;34m=\u001b[0m \u001b[0minput\u001b[0m\u001b[0;34m[\u001b[0m\u001b[0;34m:\u001b[0m\u001b[0;34m,\u001b[0m\u001b[0;32mNone\u001b[0m\u001b[0;34m,\u001b[0m\u001b[0;34m:\u001b[0m\u001b[0;34m,\u001b[0m\u001b[0;34m:\u001b[0m\u001b[0;34m]\u001b[0m\u001b[0;34m\u001b[0m\u001b[0;34m\u001b[0m\u001b[0m\n\u001b[1;32m     49\u001b[0m         \u001b[0;32melse\u001b[0m\u001b[0;34m:\u001b[0m\u001b[0;34m\u001b[0m\u001b[0;34m\u001b[0m\u001b[0m\n\u001b[0;32m---> 50\u001b[0;31m             \u001b[0moutput\u001b[0m \u001b[0;34m=\u001b[0m \u001b[0minput\u001b[0m\u001b[0;34m.\u001b[0m\u001b[0mreshape\u001b[0m\u001b[0;34m(\u001b[0m\u001b[0;34m-\u001b[0m\u001b[0;36m1\u001b[0m\u001b[0;34m,\u001b[0m\u001b[0;36m1\u001b[0m\u001b[0;34m,\u001b[0m \u001b[0minput_shape\u001b[0m\u001b[0;34m[\u001b[0m\u001b[0;36m2\u001b[0m\u001b[0;34m]\u001b[0m\u001b[0;34m,\u001b[0m \u001b[0minput_shape\u001b[0m\u001b[0;34m[\u001b[0m\u001b[0;36m3\u001b[0m\u001b[0;34m]\u001b[0m\u001b[0;34m)\u001b[0m\u001b[0;34m\u001b[0m\u001b[0;34m\u001b[0m\u001b[0m\n\u001b[0m\u001b[1;32m     51\u001b[0m \u001b[0;34m\u001b[0m\u001b[0m\n\u001b[1;32m     52\u001b[0m         \u001b[0;31m# extract layers from image-matrix\u001b[0m\u001b[0;34m\u001b[0m\u001b[0;34m\u001b[0m\u001b[0;34m\u001b[0m\u001b[0m\n",
      "\u001b[0;31mIndexError\u001b[0m: tuple index out of range"
     ]
    }
   ],
   "source": [
    "show_policy(env, params1, \"Path after 1 demonstration\")"
   ]
  },
  {
   "cell_type": "markdown",
   "metadata": {},
   "source": [
    "## After 20 iterations"
   ]
  },
  {
   "cell_type": "code",
   "execution_count": null,
   "metadata": {},
   "outputs": [],
   "source": [
    "params2 = params1\n",
    "for ii in range(1):\n",
    "    print(params2[\"layer3.bias\"])\n",
    "    params2 = train_iter(policy, params2)\n",
    "\n",
    "show_policy(env, params2, \"Path after 10 demonstrations\")"
   ]
  },
  {
   "cell_type": "code",
   "execution_count": null,
   "metadata": {},
   "outputs": [],
   "source": []
  }
 ],
 "metadata": {
  "kernelspec": {
   "display_name": "Python 3",
   "language": "python",
   "name": "python3"
  },
  "language_info": {
   "codemirror_mode": {
    "name": "ipython",
    "version": 3
   },
   "file_extension": ".py",
   "mimetype": "text/x-python",
   "name": "python",
   "nbconvert_exporter": "python",
   "pygments_lexer": "ipython3",
   "version": "3.8.5"
  }
 },
 "nbformat": 4,
 "nbformat_minor": 4
}
