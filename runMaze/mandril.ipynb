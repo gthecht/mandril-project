{
 "cells": [
  {
   "cell_type": "markdown",
   "metadata": {},
   "source": [
    "## Imports"
   ]
  },
  {
   "cell_type": "code",
   "execution_count": 1,
   "metadata": {},
   "outputs": [],
   "source": [
    "import os, sys\n",
    "currentdir = os.path.dirname(os.path.realpath(\"mandril.ipynb\"))\n",
    "parentdir = os.path.dirname(currentdir)\n",
    "sys.path.append(parentdir)\n",
    "\n",
    "import numpy as np\n",
    "import gym\n",
    "import torch\n",
    "import json\n",
    "import numpy as np\n",
    "from tqdm import trange\n",
    "\n",
    "import maml_rl.envs\n",
    "from maml_rl.baseline import LinearFeatureBaseline\n",
    "from maml_rl.samplers import MultiTaskSampler\n",
    "from maml_rl.utils.helpers import get_policy_for_env, get_input_size\n",
    "from maml_rl.utils.reinforcement_learning import get_returns, reinforce_loss\n",
    "\n",
    "from mazelab import MazeEnv\n",
    "from mazelab.solvers import dijkstra_solver"
   ]
  },
  {
   "cell_type": "code",
   "execution_count": 2,
   "metadata": {},
   "outputs": [],
   "source": [
    "def show_maze(maze, title=None):\n",
    "    fig = plt.figure(figsize=(8,8))\n",
    "    plt.imshow(maze)\n",
    "    if title:\n",
    "        plt.title(title)\n",
    "    plt.show()"
   ]
  },
  {
   "cell_type": "code",
   "execution_count": 3,
   "metadata": {},
   "outputs": [],
   "source": [
    "with np.load(\"../maml-randomShapeMaze/results.npz\") as data_file:\n",
    "    logs = {\n",
    "        \"tasks\": data_file[\"tasks\"],\n",
    "        \"train_returns\" : data_file[\"train_returns\"],\n",
    "        \"valid_returns\" : data_file[\"valid_returns\"],\n",
    "        # \"train_episodes\" : data_file[\"train_episodes\"],\n",
    "        # \"valid_episodes\" : data_file[\"valid_episodes\"],\n",
    "    }"
   ]
  },
  {
   "cell_type": "code",
   "execution_count": 4,
   "metadata": {},
   "outputs": [
    {
     "data": {
      "text/plain": [
       "(160, 10, 10)"
      ]
     },
     "metadata": {},
     "output_type": "display_data"
    },
    {
     "data": {
      "text/plain": [
       "(160, 20)"
      ]
     },
     "metadata": {},
     "output_type": "display_data"
    },
    {
     "data": {
      "text/plain": [
       "(160, 20)"
      ]
     },
     "metadata": {},
     "output_type": "display_data"
    }
   ],
   "source": [
    "display(logs[\"tasks\"].shape)\n",
    "display(logs[\"train_returns\"].shape)\n",
    "display(logs[\"valid_returns\"].shape)"
   ]
  },
  {
   "cell_type": "code",
   "execution_count": 5,
   "metadata": {},
   "outputs": [
    {
     "data": {
      "text/plain": [
       "array([[1, 1, 1, 1, 1, 1, 1, 1, 1, 1],\n",
       "       [1, 1, 0, 0, 0, 0, 0, 0, 0, 1],\n",
       "       [1, 1, 0, 0, 0, 0, 0, 0, 0, 1],\n",
       "       [1, 0, 0, 0, 0, 0, 0, 0, 0, 1],\n",
       "       [1, 0, 0, 0, 0, 0, 0, 0, 0, 1],\n",
       "       [1, 0, 0, 0, 0, 0, 0, 0, 0, 1],\n",
       "       [1, 0, 0, 0, 0, 0, 0, 0, 0, 1],\n",
       "       [1, 0, 0, 0, 0, 0, 1, 1, 0, 1],\n",
       "       [1, 0, 0, 0, 0, 0, 1, 1, 0, 1],\n",
       "       [1, 1, 1, 1, 1, 1, 1, 1, 1, 1]], dtype=uint8)"
      ]
     },
     "metadata": {},
     "output_type": "display_data"
    },
    {
     "data": {
      "text/plain": [
       "array([0.9460001 , 0.9635    , 0.941     , 0.9585001 , 0.9495001 ,\n",
       "       0.95100003, 0.95650005, 0.9510001 , 0.95650005, 0.9545001 ,\n",
       "       0.94350004, 0.9635    , 0.94900006, 0.9554998 , 0.9545    ,\n",
       "       0.9639999 , 0.9725    , 0.975     , 0.9639999 , 0.959     ,\n",
       "       0.96000004, 0.9660001 , 0.94649994, 0.9585001 , 0.947     ,\n",
       "       0.958     , 0.95050013, 0.94750005, 0.9495001 , 0.94700015,\n",
       "       0.9415    , 0.9460001 , 0.9505    , 0.95300007, 0.9545    ,\n",
       "       0.949     , 0.95250005, 0.95500004, 0.952     , 0.9555    ,\n",
       "       0.952     , 0.95350015, 0.94799995, 0.96049994, 0.9535    ,\n",
       "       0.94350004, 0.96049994, 0.9570001 , 0.9539999 , 0.94299996,\n",
       "       0.95149994, 0.952     , 0.9535    , 0.9455    , 0.95150006,\n",
       "       0.95100003, 0.9535001 , 0.9639999 , 0.95699996, 0.9475001 ,\n",
       "       0.95650005, 0.9635    , 0.95549995, 0.96050006, 0.95600015,\n",
       "       0.95250005, 0.95650005, 0.9510001 , 0.96000004, 0.95649993,\n",
       "       0.9590001 , 0.95650005, 0.9585    , 0.9599999 , 0.96500003,\n",
       "       0.95650005, 0.95500004, 0.9615    , 0.9465    , 0.958     ,\n",
       "       0.95299995, 0.94500005, 0.9495001 , 0.95150006, 0.9455001 ,\n",
       "       0.95749986, 0.95      , 0.9564999 , 0.9620001 , 0.9630001 ,\n",
       "       0.9500001 , 0.952     , 0.96150005, 0.95650005, 0.9480001 ,\n",
       "       0.9535001 , 0.9525    , 0.952     , 0.96750003, 0.9410001 ,\n",
       "       0.9570001 , 0.94900006, 0.945     , 0.94400007, 0.9635    ,\n",
       "       0.9610001 , 0.9555    , 0.94750005, 0.9535    , 0.952     ,\n",
       "       0.958     , 0.94949996, 0.9480001 , 0.9510001 , 0.9545    ,\n",
       "       0.959     , 0.9410001 , 0.9570001 , 0.9585001 , 0.9460001 ,\n",
       "       0.9500001 , 0.95650005, 0.96500003, 0.95199996, 0.95649993,\n",
       "       0.95600003, 0.96050006, 0.9615    , 0.9455    , 0.94449997,\n",
       "       0.96500003, 0.96000004, 0.95549995, 0.938     , 0.96150005,\n",
       "       0.962     , 0.947     , 0.94949996, 0.9655    , 0.96450007,\n",
       "       0.93850005, 0.9525    , 0.96099997, 0.956     , 0.947     ,\n",
       "       0.95800006, 0.954     , 0.9625    , 0.9465    , 0.9465    ,\n",
       "       0.954     , 0.9499999 , 0.94700015, 0.9505    , 0.959     ,\n",
       "       0.96099997, 0.96000004, 0.9639999 , 0.967     , 0.945     ],\n",
       "      dtype=float32)"
      ]
     },
     "metadata": {},
     "output_type": "display_data"
    },
    {
     "data": {
      "text/plain": [
       "array([-105.66051 , -107.713   ,  -69.498505, -107.32851 , -136.33052 ,\n",
       "        -81.534   ,  -99.748   , -125.33101 ,  -98.7715  ,  -58.304005,\n",
       "        -65.151505, -139.892   , -126.97701 ,  -91.0305  ,  -94.942   ,\n",
       "        -96.727005,  -89.4085  ,  -92.619   ,  -42.538   ,  -89.51399 ,\n",
       "        -97.4225  , -119.98751 ,  -52.77    ,  -42.577507,  -75.041   ,\n",
       "       -115.04701 , -120.58401 , -124.763016, -138.40451 , -117.907005,\n",
       "        -92.319   ,  -58.60251 , -127.179016, -107.711   , -105.447495,\n",
       "       -118.37048 , -126.092   ,  -60.315002,  -88.766495, -108.218506,\n",
       "        -90.596504,  -70.44499 ,  -73.964005,  -77.61951 ,  -44.1755  ,\n",
       "        -99.006996, -113.80851 , -117.328   ,  -72.53001 , -100.64751 ,\n",
       "        -78.6615  , -103.66951 , -158.05301 , -102.0145  ,  -87.51551 ,\n",
       "       -124.90102 ,  -80.003494, -100.145996, -104.5475  ,  -90.3955  ,\n",
       "        -96.6845  ,  -90.1815  , -103.95351 ,  -78.7     , -104.69    ,\n",
       "        -73.40901 ,  -73.71901 ,  -90.889   ,  -77.621506,  -90.29    ,\n",
       "        -78.102005,  -43.857506, -116.66951 ,  -73.823006, -128.0565  ,\n",
       "        -78.954506, -107.7615  ,  -99.2065  ,  -79.5625  , -101.62501 ,\n",
       "       -117.7585  ,  -99.6575  , -106.38701 , -123.201004,  -31.538   ,\n",
       "       -120.829506, -127.17051 , -156.02602 ,  -89.0535  ,  -39.7085  ,\n",
       "        -98.60249 , -130.70052 ,  -71.778   , -175.983   ,  -68.4055  ,\n",
       "        -99.104996,  -86.528496, -136.47702 ,  -52.754997,  -91.137   ,\n",
       "       -158.45251 ,  -72.421   ,  -89.408005,  -60.1     ,  -79.257   ,\n",
       "       -127.501015,  -78.90651 ,  -86.519   ,  -81.079506,  -93.012   ,\n",
       "        -68.577   ,  -70.31251 ,  -55.445503,  -51.131004, -116.58801 ,\n",
       "        -94.2575  , -102.711   ,  -66.477005,  -69.69701 , -111.582504,\n",
       "        -77.470505, -105.5365  ,  -37.7195  ,  -97.478   ,  -87.61949 ,\n",
       "        -69.4605  , -109.015   ,  -97.813   ,  -80.43451 ,  -61.821503,\n",
       "       -105.695496, -127.0775  ,  -81.332504, -101.91801 , -110.289   ,\n",
       "       -137.4235  ,  -90.28249 ,  -95.832504,  -73.2625  ,  -93.6685  ,\n",
       "        -92.879005,  -76.9125  ,  -79.5875  , -107.36001 ,  -56.036507,\n",
       "        -71.939   ,  -58.6705  , -147.569   ,  -92.93601 , -118.168015,\n",
       "        -97.81549 , -137.364   ,  -92.01    ,  -80.143   , -127.811   ,\n",
       "        -70.6485  ,  -68.023   ,  -90.290504, -109.10451 , -103.658005],\n",
       "      dtype=float32)"
      ]
     },
     "metadata": {},
     "output_type": "display_data"
    }
   ],
   "source": [
    "display(logs[\"tasks\"][0])\n",
    "display(np.mean(logs[\"train_returns\"],1))\n",
    "display(np.mean(logs[\"valid_returns\"],1))"
   ]
  },
  {
   "cell_type": "code",
   "execution_count": 6,
   "metadata": {},
   "outputs": [
    {
     "data": {
      "image/png": "[encoded data removed]",
      "text/plain": [
       "<Figure size 576x576 with 1 Axes>"
      ]
     },
     "metadata": {
      "needs_background": "light"
     },
     "output_type": "display_data"
    }
   ],
   "source": [
    "import matplotlib.pyplot as plt\n",
    "\n",
    "x = logs[\"tasks\"][0]\n",
    "show_maze(x)"
   ]
  },
  {
   "cell_type": "code",
   "execution_count": 7,
   "metadata": {},
   "outputs": [],
   "source": [
    "import argparse\n",
    "parser = argparse.ArgumentParser(\n",
    "    description='Reinforcement learning with Model-Agnostic Meta-Learning (MAML) - Test')\n",
    "\n",
    "args = {\n",
    "\"config\": \"../maml-randomShapeMaze/config.json\",\n",
    "\"policy\": \"../maml-randomShapeMaze/policy.th\",\n",
    "\n",
    "# Evaluation\n",
    "\"num_batches\": 1,\n",
    "\"meta_batch_size\": 1,\n",
    "\n",
    "# Miscellaneous\n",
    "\"output\": \"maml-randomShapeMaze/results.npz\",\n",
    "\"seed\": None,\n",
    "\"num_workers\": 1,\n",
    "\"device\": ('cpu'),\n",
    "}\n",
    "\n",
    "height = 10\n",
    "width = 10"
   ]
  },
  {
   "cell_type": "code",
   "execution_count": 8,
   "metadata": {},
   "outputs": [],
   "source": [
    "try:\n",
    "    gym.envs.register(\n",
    "        id=\"RandomShapeMaze-v0\",\n",
    "        entry_point=MazeEnv,\n",
    "        max_episode_steps=200,\n",
    "        kwargs={\"width\": 10, \"height\": 10, \"max_shapes\": 5,\n",
    "                \"max_size\": 2, \"allow_overlap\": False, \"shape\": None}\n",
    "    )\n",
    "except:\n",
    "    print(\"environment already registered\")"
   ]
  },
  {
   "cell_type": "code",
   "execution_count": 9,
   "metadata": {},
   "outputs": [],
   "source": [
    "with open(args[\"config\"], 'r') as f:\n",
    "    config = json.load(f)\n",
    "    if 'env-kwargs' not in config.keys(): config['env-kwargs'] = {}\n",
    "\n",
    "env = gym.make(config['env-name'], **config['env-kwargs'])\n",
    "env.close()\n",
    "\n",
    "# configs:\n",
    "fast_lr = config[\"fast-lr\"]"
   ]
  },
  {
   "cell_type": "code",
   "execution_count": 10,
   "metadata": {},
   "outputs": [
    {
     "name": "stdout",
     "output_type": "stream",
     "text": [
      "Parameter containing:\n",
      "tensor([ 0.1688,  0.5333,  0.0310, -2.6397,  0.3514, -0.9000, -1.2096,  2.0343,\n",
      "         0.9415, -2.3257,  0.4035,  0.1495, -1.0996, -1.8055, -2.0496, -3.5087],\n",
      "       requires_grad=True)\n"
     ]
    }
   ],
   "source": [
    "def get_policy(policy_path):\n",
    "    policy = get_policy_for_env(env,\n",
    "                                hidden_sizes=config['hidden-sizes'],\n",
    "                                nonlinearity=config['nonlinearity'])\n",
    "    with open(policy_path, 'rb') as f:\n",
    "        state_dict = torch.load(f, map_location=torch.device(args[\"device\"]))\n",
    "        policy.load_state_dict(state_dict)\n",
    "    return policy\n",
    "        \n",
    "policy = get_policy(args[\"policy\"])\n",
    "print(policy.layer1.bias)#.params[\"layer1.bias\"])"
   ]
  },
  {
   "cell_type": "code",
   "execution_count": 11,
   "metadata": {},
   "outputs": [
    {
     "data": {
      "image/png": "[encoded data removed]",
      "text/plain": [
       "<Figure size 576x576 with 1 Axes>"
      ]
     },
     "metadata": {
      "needs_background": "light"
     },
     "output_type": "display_data"
    }
   ],
   "source": [
    "observations = env.reset()\n",
    "img = env.render('rgb_array')\n",
    "show_maze(img, \"First maze\")"
   ]
  },
  {
   "cell_type": "code",
   "execution_count": 12,
   "metadata": {},
   "outputs": [],
   "source": [
    "def run_policy(env, observations=None, params=None):\n",
    "    if observations.all == None:\n",
    "        observations = env.reset()\n",
    "    data = []\n",
    "    path = [env.maze.objects.agent.positions[0]]\n",
    "    count = 0\n",
    "    reward = 0\n",
    "    with torch.no_grad():\n",
    "        while not (env.maze.objects.agent.positions == env.maze.objects.goal.positions) and count < 50:\n",
    "            observations_tensor = torch.from_numpy(observations)\n",
    "            pi = policy(observations_tensor, params=params)\n",
    "            actions_tensor = pi.sample()\n",
    "            actions = actions_tensor.cpu().numpy()\n",
    "\n",
    "            new_observations, rewards, _, infos = env.step(actions)\n",
    "\n",
    "            data.append({ \"observations\": observations, \"actions\": actions, \"rewards\": rewards })\n",
    "            observations = new_observations\n",
    "            path.append(env.maze.objects.agent.positions[0])\n",
    "            count += 1\n",
    "            reward += rewards\n",
    "    return data, np.array(path), reward"
   ]
  },
  {
   "cell_type": "code",
   "execution_count": 13,
   "metadata": {},
   "outputs": [],
   "source": [
    "def show_policy(env, params, title):\n",
    "    observations = env.reset()\n",
    "    maze_original = observations.reshape(height,width)\n",
    "    data, path, reward = run_policy(env, observations, params)\n",
    "\n",
    "    maze_original[path[:,0], path[:,1]] = 4\n",
    "    maze_original[path[0,0], path[0,1]] = 2\n",
    "    maze_original[path[-1,0], path[-1,1]] = 3\n",
    "    show_maze(maze_original, title + \" - reward = {0}\".format(round(reward, 2)))"
   ]
  },
  {
   "cell_type": "code",
   "execution_count": 23,
   "metadata": {},
   "outputs": [
    {
     "data": {
      "text/plain": [
       "array([[1, 1, 1, 1, 1, 1, 1, 1, 1, 1],\n",
       "       [1, 0, 0, 0, 0, 0, 0, 1, 1, 1],\n",
       "       [1, 0, 1, 1, 0, 1, 1, 0, 0, 1],\n",
       "       [1, 0, 1, 1, 0, 1, 1, 0, 0, 1],\n",
       "       [1, 1, 1, 1, 0, 0, 0, 1, 0, 1],\n",
       "       [1, 1, 1, 1, 0, 0, 0, 0, 0, 1],\n",
       "       [1, 1, 1, 1, 3, 0, 0, 0, 0, 1],\n",
       "       [1, 0, 0, 0, 0, 0, 0, 2, 0, 1],\n",
       "       [1, 0, 0, 0, 0, 0, 0, 0, 0, 1],\n",
       "       [1, 1, 1, 1, 1, 1, 1, 1, 1, 1]], dtype=uint8)"
      ]
     },
     "metadata": {},
     "output_type": "display_data"
    },
    {
     "data": {
      "text/plain": [
       "array([[[1., 1., 1., 1., 1., 1., 1., 1., 1., 1.],\n",
       "        [1., 0., 0., 0., 0., 0., 0., 1., 1., 1.],\n",
       "        [1., 0., 1., 1., 0., 1., 1., 0., 0., 1.],\n",
       "        [1., 0., 1., 1., 0., 1., 1., 0., 0., 1.],\n",
       "        [1., 1., 1., 1., 0., 0., 0., 1., 0., 1.],\n",
       "        [1., 1., 1., 1., 0., 0., 0., 0., 0., 1.],\n",
       "        [1., 1., 1., 1., 3., 0., 0., 0., 0., 1.],\n",
       "        [1., 0., 0., 0., 0., 0., 0., 2., 0., 1.],\n",
       "        [1., 0., 0., 0., 0., 0., 0., 0., 0., 1.],\n",
       "        [1., 1., 1., 1., 1., 1., 1., 1., 1., 1.]]])"
      ]
     },
     "metadata": {},
     "output_type": "display_data"
    }
   ],
   "source": [
    "observations2 = (observations.astype(float)[None,:,:])\n",
    "display(observations)\n",
    "display(observations2)"
   ]
  },
  {
   "cell_type": "code",
   "execution_count": 26,
   "metadata": {},
   "outputs": [
    {
     "name": "stdout",
     "output_type": "stream",
     "text": [
      "input dtype:  torch.float32\n"
     ]
    },
    {
     "ename": "TypeError",
     "evalue": "only integer scalar arrays can be converted to a scalar index",
     "output_type": "error",
     "traceback": [
      "\u001b[0;31m---------------------------------------------------------------------------\u001b[0m",
      "\u001b[0;31mTypeError\u001b[0m                                 Traceback (most recent call last)",
      "\u001b[0;32m<ipython-input-26-6c66d6c92a0d>\u001b[0m in \u001b[0;36m<module>\u001b[0;34m\u001b[0m\n\u001b[1;32m      1\u001b[0m \u001b[0mmaze_original\u001b[0m \u001b[0;34m=\u001b[0m \u001b[0mobservations\u001b[0m\u001b[0;34m.\u001b[0m\u001b[0mreshape\u001b[0m\u001b[0;34m(\u001b[0m\u001b[0mheight\u001b[0m\u001b[0;34m,\u001b[0m\u001b[0mwidth\u001b[0m\u001b[0;34m)\u001b[0m\u001b[0;34m\u001b[0m\u001b[0;34m\u001b[0m\u001b[0m\n\u001b[0;32m----> 2\u001b[0;31m \u001b[0mdata\u001b[0m\u001b[0;34m,\u001b[0m \u001b[0mpath\u001b[0m\u001b[0;34m,\u001b[0m \u001b[0mreward\u001b[0m \u001b[0;34m=\u001b[0m \u001b[0mrun_policy\u001b[0m\u001b[0;34m(\u001b[0m\u001b[0menv\u001b[0m\u001b[0;34m,\u001b[0m \u001b[0mobservations\u001b[0m\u001b[0;34m[\u001b[0m\u001b[0;32mNone\u001b[0m\u001b[0;34m,\u001b[0m\u001b[0;34m:\u001b[0m\u001b[0;34m,\u001b[0m\u001b[0;34m:\u001b[0m\u001b[0;34m]\u001b[0m\u001b[0;34m.\u001b[0m\u001b[0mastype\u001b[0m\u001b[0;34m(\u001b[0m\u001b[0;34m'float32'\u001b[0m\u001b[0;34m)\u001b[0m\u001b[0;34m)\u001b[0m\u001b[0;34m\u001b[0m\u001b[0;34m\u001b[0m\u001b[0m\n\u001b[0m\u001b[1;32m      3\u001b[0m \u001b[0;34m\u001b[0m\u001b[0m\n\u001b[1;32m      4\u001b[0m \u001b[0mmaze_original\u001b[0m\u001b[0;34m[\u001b[0m\u001b[0mpath\u001b[0m\u001b[0;34m[\u001b[0m\u001b[0;34m:\u001b[0m\u001b[0;34m,\u001b[0m\u001b[0;36m0\u001b[0m\u001b[0;34m]\u001b[0m\u001b[0;34m,\u001b[0m \u001b[0mpath\u001b[0m\u001b[0;34m[\u001b[0m\u001b[0;34m:\u001b[0m\u001b[0;34m,\u001b[0m\u001b[0;36m1\u001b[0m\u001b[0;34m]\u001b[0m\u001b[0;34m]\u001b[0m \u001b[0;34m=\u001b[0m \u001b[0;36m4\u001b[0m\u001b[0;34m\u001b[0m\u001b[0;34m\u001b[0m\u001b[0m\n\u001b[1;32m      5\u001b[0m \u001b[0mmaze_original\u001b[0m\u001b[0;34m[\u001b[0m\u001b[0mpath\u001b[0m\u001b[0;34m[\u001b[0m\u001b[0;36m0\u001b[0m\u001b[0;34m,\u001b[0m\u001b[0;36m0\u001b[0m\u001b[0;34m]\u001b[0m\u001b[0;34m,\u001b[0m \u001b[0mpath\u001b[0m\u001b[0;34m[\u001b[0m\u001b[0;36m0\u001b[0m\u001b[0;34m,\u001b[0m\u001b[0;36m1\u001b[0m\u001b[0;34m]\u001b[0m\u001b[0;34m]\u001b[0m \u001b[0;34m=\u001b[0m \u001b[0;36m2\u001b[0m\u001b[0;34m\u001b[0m\u001b[0;34m\u001b[0m\u001b[0m\n",
      "\u001b[0;32m<ipython-input-12-b98971cfce5b>\u001b[0m in \u001b[0;36mrun_policy\u001b[0;34m(env, observations, params)\u001b[0m\n\u001b[1;32m     13\u001b[0m             \u001b[0mactions\u001b[0m \u001b[0;34m=\u001b[0m \u001b[0mactions_tensor\u001b[0m\u001b[0;34m.\u001b[0m\u001b[0mcpu\u001b[0m\u001b[0;34m(\u001b[0m\u001b[0;34m)\u001b[0m\u001b[0;34m.\u001b[0m\u001b[0mnumpy\u001b[0m\u001b[0;34m(\u001b[0m\u001b[0;34m)\u001b[0m\u001b[0;34m\u001b[0m\u001b[0;34m\u001b[0m\u001b[0m\n\u001b[1;32m     14\u001b[0m \u001b[0;34m\u001b[0m\u001b[0m\n\u001b[0;32m---> 15\u001b[0;31m             \u001b[0mnew_observations\u001b[0m\u001b[0;34m,\u001b[0m \u001b[0mrewards\u001b[0m\u001b[0;34m,\u001b[0m \u001b[0m_\u001b[0m\u001b[0;34m,\u001b[0m \u001b[0minfos\u001b[0m \u001b[0;34m=\u001b[0m \u001b[0menv\u001b[0m\u001b[0;34m.\u001b[0m\u001b[0mstep\u001b[0m\u001b[0;34m(\u001b[0m\u001b[0mactions\u001b[0m\u001b[0;34m)\u001b[0m\u001b[0;34m\u001b[0m\u001b[0;34m\u001b[0m\u001b[0m\n\u001b[0m\u001b[1;32m     16\u001b[0m \u001b[0;34m\u001b[0m\u001b[0m\n\u001b[1;32m     17\u001b[0m             \u001b[0mdata\u001b[0m\u001b[0;34m.\u001b[0m\u001b[0mappend\u001b[0m\u001b[0;34m(\u001b[0m\u001b[0;34m{\u001b[0m \u001b[0;34m\"observations\"\u001b[0m\u001b[0;34m:\u001b[0m \u001b[0mobservations\u001b[0m\u001b[0;34m,\u001b[0m \u001b[0;34m\"actions\"\u001b[0m\u001b[0;34m:\u001b[0m \u001b[0mactions\u001b[0m\u001b[0;34m,\u001b[0m \u001b[0;34m\"rewards\"\u001b[0m\u001b[0;34m:\u001b[0m \u001b[0mrewards\u001b[0m \u001b[0;34m}\u001b[0m\u001b[0;34m)\u001b[0m\u001b[0;34m\u001b[0m\u001b[0;34m\u001b[0m\u001b[0m\n",
      "\u001b[0;32m~/.local/lib/python3.8/site-packages/gym/wrappers/time_limit.py\u001b[0m in \u001b[0;36mstep\u001b[0;34m(self, action)\u001b[0m\n\u001b[1;32m     14\u001b[0m     \u001b[0;32mdef\u001b[0m \u001b[0mstep\u001b[0m\u001b[0;34m(\u001b[0m\u001b[0mself\u001b[0m\u001b[0;34m,\u001b[0m \u001b[0maction\u001b[0m\u001b[0;34m)\u001b[0m\u001b[0;34m:\u001b[0m\u001b[0;34m\u001b[0m\u001b[0;34m\u001b[0m\u001b[0m\n\u001b[1;32m     15\u001b[0m         \u001b[0;32massert\u001b[0m \u001b[0mself\u001b[0m\u001b[0;34m.\u001b[0m\u001b[0m_elapsed_steps\u001b[0m \u001b[0;32mis\u001b[0m \u001b[0;32mnot\u001b[0m \u001b[0;32mNone\u001b[0m\u001b[0;34m,\u001b[0m \u001b[0;34m\"Cannot call env.step() before calling reset()\"\u001b[0m\u001b[0;34m\u001b[0m\u001b[0;34m\u001b[0m\u001b[0m\n\u001b[0;32m---> 16\u001b[0;31m         \u001b[0mobservation\u001b[0m\u001b[0;34m,\u001b[0m \u001b[0mreward\u001b[0m\u001b[0;34m,\u001b[0m \u001b[0mdone\u001b[0m\u001b[0;34m,\u001b[0m \u001b[0minfo\u001b[0m \u001b[0;34m=\u001b[0m \u001b[0mself\u001b[0m\u001b[0;34m.\u001b[0m\u001b[0menv\u001b[0m\u001b[0;34m.\u001b[0m\u001b[0mstep\u001b[0m\u001b[0;34m(\u001b[0m\u001b[0maction\u001b[0m\u001b[0;34m)\u001b[0m\u001b[0;34m\u001b[0m\u001b[0;34m\u001b[0m\u001b[0m\n\u001b[0m\u001b[1;32m     17\u001b[0m         \u001b[0mself\u001b[0m\u001b[0;34m.\u001b[0m\u001b[0m_elapsed_steps\u001b[0m \u001b[0;34m+=\u001b[0m \u001b[0;36m1\u001b[0m\u001b[0;34m\u001b[0m\u001b[0;34m\u001b[0m\u001b[0m\n\u001b[1;32m     18\u001b[0m         \u001b[0;32mif\u001b[0m \u001b[0mself\u001b[0m\u001b[0;34m.\u001b[0m\u001b[0m_elapsed_steps\u001b[0m \u001b[0;34m>=\u001b[0m \u001b[0mself\u001b[0m\u001b[0;34m.\u001b[0m\u001b[0m_max_episode_steps\u001b[0m\u001b[0;34m:\u001b[0m\u001b[0;34m\u001b[0m\u001b[0;34m\u001b[0m\u001b[0m\n",
      "\u001b[0;32m~/Workspace/mandril-project/mazelab/mazelab/gym/mazeEnv.py\u001b[0m in \u001b[0;36mstep\u001b[0;34m(self, action)\u001b[0m\n\u001b[1;32m     45\u001b[0m \u001b[0;34m\u001b[0m\u001b[0m\n\u001b[1;32m     46\u001b[0m     \u001b[0;32mdef\u001b[0m \u001b[0mstep\u001b[0m\u001b[0;34m(\u001b[0m\u001b[0mself\u001b[0m\u001b[0;34m,\u001b[0m \u001b[0maction\u001b[0m\u001b[0;34m)\u001b[0m\u001b[0;34m:\u001b[0m\u001b[0;34m\u001b[0m\u001b[0;34m\u001b[0m\u001b[0m\n\u001b[0;32m---> 47\u001b[0;31m         \u001b[0mmotion\u001b[0m \u001b[0;34m=\u001b[0m \u001b[0mself\u001b[0m\u001b[0;34m.\u001b[0m\u001b[0mmotions\u001b[0m\u001b[0;34m[\u001b[0m\u001b[0maction\u001b[0m\u001b[0;34m]\u001b[0m\u001b[0;34m\u001b[0m\u001b[0;34m\u001b[0m\u001b[0m\n\u001b[0m\u001b[1;32m     48\u001b[0m         \u001b[0mcurrent_position\u001b[0m \u001b[0;34m=\u001b[0m \u001b[0mself\u001b[0m\u001b[0;34m.\u001b[0m\u001b[0mmaze\u001b[0m\u001b[0;34m.\u001b[0m\u001b[0mobjects\u001b[0m\u001b[0;34m.\u001b[0m\u001b[0magent\u001b[0m\u001b[0;34m.\u001b[0m\u001b[0mpositions\u001b[0m\u001b[0;34m[\u001b[0m\u001b[0;36m0\u001b[0m\u001b[0;34m]\u001b[0m\u001b[0;34m\u001b[0m\u001b[0;34m\u001b[0m\u001b[0m\n\u001b[1;32m     49\u001b[0m         \u001b[0mnew_position\u001b[0m \u001b[0;34m=\u001b[0m \u001b[0;34m[\u001b[0m\u001b[0mcurrent_position\u001b[0m\u001b[0;34m[\u001b[0m\u001b[0;36m0\u001b[0m\u001b[0;34m]\u001b[0m \u001b[0;34m+\u001b[0m \u001b[0mmotion\u001b[0m\u001b[0;34m[\u001b[0m\u001b[0;36m0\u001b[0m\u001b[0;34m]\u001b[0m\u001b[0;34m,\u001b[0m \u001b[0mcurrent_position\u001b[0m\u001b[0;34m[\u001b[0m\u001b[0;36m1\u001b[0m\u001b[0;34m]\u001b[0m \u001b[0;34m+\u001b[0m \u001b[0mmotion\u001b[0m\u001b[0;34m[\u001b[0m\u001b[0;36m1\u001b[0m\u001b[0;34m]\u001b[0m\u001b[0;34m]\u001b[0m\u001b[0;34m\u001b[0m\u001b[0;34m\u001b[0m\u001b[0m\n",
      "\u001b[0;31mTypeError\u001b[0m: only integer scalar arrays can be converted to a scalar index"
     ]
    }
   ],
   "source": [
    "maze_original = observations.reshape(height,width)\n",
    "data, path, reward = run_policy(env, observations[None,:,:].astype('float32'))\n",
    "\n",
    "maze_original[path[:,0], path[:,1]] = 4\n",
    "maze_original[path[0,0], path[0,1]] = 2\n",
    "maze_original[path[-1,0], path[-1,1]] = 3\n",
    "show_maze(maze_original, \"Path without demonstration: reward = {0}\".format(round(reward, 2)))"
   ]
  },
  {
   "cell_type": "markdown",
   "metadata": {},
   "source": [
    "## Update with example:"
   ]
  },
  {
   "cell_type": "code",
   "execution_count": null,
   "metadata": {},
   "outputs": [],
   "source": [
    "class Episodes:\n",
    "    def __init__(self, batch_size, actions, rewards, observations):\n",
    "        self.batch_size = batch_size\n",
    "        self.actions = actions\n",
    "        self.rewards = rewards\n",
    "        self.observations = observations\n",
    "        self.observation_shape = observations.shape[2:]\n",
    "        self._lengths = None\n",
    "        \n",
    "    @property\n",
    "    def lengths(self):\n",
    "        if self._lengths is None:\n",
    "            self._lengths = [len(rewards) for rewards in self.rewards]\n",
    "        return self._lengths\n",
    "    \n",
    "    def __len__(self):\n",
    "        return max(self.lengths)"
   ]
  },
  {
   "cell_type": "code",
   "execution_count": null,
   "metadata": {},
   "outputs": [],
   "source": [
    "def train_iter(policy, params=None):\n",
    "    observations = env.reset()\n",
    "    maze_image = env.get_image()\n",
    "    impassable_array = env.unwrapped.maze.to_impassable()\n",
    "    motions = env.unwrapped.motions\n",
    "    start = env.unwrapped.maze.objects.agent.positions[0]\n",
    "    goal = env.unwrapped.maze.objects.goal.positions[0]\n",
    "    actions = dijkstra_solver(impassable_array, motions, start, goal)\n",
    "    rewards = []\n",
    "    observations = []\n",
    "    for action in actions:\n",
    "        observation, reward, _, infos = env.step(action)\n",
    "        rewards.append(reward)\n",
    "        observations.append(observation)\n",
    "        \n",
    "    actions      = torch.tensor([actions])\n",
    "    rewards      = torch.tensor([rewards])\n",
    "    observations = torch.tensor([observations])\n",
    "    \n",
    "    episodes = Episodes(1, actions, rewards, observations)\n",
    "    \n",
    "    loss = reinforce_loss(policy, episodes, params=params)\n",
    "    params = policy.update_params(loss,\n",
    "                                  params=params,\n",
    "                                  step_size=fast_lr,\n",
    "                                  first_order=True)\n",
    "    print(np.array(sum(rewards[0])))\n",
    "    show_maze(maze_image, \"dijkstra - reward = {0}\".format(round(np.array(sum(rewards[0])), 2)))\n",
    "    return params"
   ]
  },
  {
   "cell_type": "code",
   "execution_count": null,
   "metadata": {},
   "outputs": [],
   "source": [
    "params1 = train_iter(policy)"
   ]
  },
  {
   "cell_type": "markdown",
   "metadata": {},
   "source": [
    "## Check outcome after 1 iteration:"
   ]
  },
  {
   "cell_type": "code",
   "execution_count": null,
   "metadata": {},
   "outputs": [],
   "source": [
    "show_policy(env, params1, \"Path after 1 demonstration\")"
   ]
  },
  {
   "cell_type": "markdown",
   "metadata": {},
   "source": [
    "## After 20 iterations"
   ]
  },
  {
   "cell_type": "code",
   "execution_count": null,
   "metadata": {},
   "outputs": [],
   "source": [
    "params2 = params1\n",
    "for ii in range(1):\n",
    "    print(params2[\"layer3.bias\"])\n",
    "    params2 = train_iter(policy, params2)\n",
    "\n",
    "show_policy(env, params2, \"Path after 10 demonstrations\")"
   ]
  },
  {
   "cell_type": "code",
   "execution_count": null,
   "metadata": {},
   "outputs": [],
   "source": []
  }
 ],
 "metadata": {
  "kernelspec": {
   "display_name": "Python 3",
   "language": "python",
   "name": "python3"
  },
  "language_info": {
   "codemirror_mode": {
    "name": "ipython",
    "version": 3
   },
   "file_extension": ".py",
   "mimetype": "text/x-python",
   "name": "python",
   "nbconvert_exporter": "python",
   "pygments_lexer": "ipython3",
   "version": "3.8.5"
  }
 },
 "nbformat": 4,
 "nbformat_minor": 4
}
