{
 "cells": [
  {
   "cell_type": "code",
   "execution_count": 11,
   "metadata": {},
   "outputs": [
    {
     "output_type": "error",
     "ename": "KeyError",
     "evalue": "'train_episodes is not a file in the archive'",
     "traceback": [
      "\u001b[0;31m---------------------------------------------------------------------------\u001b[0m",
      "\u001b[0;31mKeyError\u001b[0m                                  Traceback (most recent call last)",
      "\u001b[0;32m<ipython-input-11-f534701a4f52>\u001b[0m in \u001b[0;36m<module>\u001b[0;34m\u001b[0m\n\u001b[1;32m      6\u001b[0m         \u001b[0;34m\"train_returns\"\u001b[0m \u001b[0;34m:\u001b[0m \u001b[0mdata_file\u001b[0m\u001b[0;34m[\u001b[0m\u001b[0;34m\"train_returns\"\u001b[0m\u001b[0;34m]\u001b[0m\u001b[0;34m,\u001b[0m\u001b[0;34m\u001b[0m\u001b[0;34m\u001b[0m\u001b[0m\n\u001b[1;32m      7\u001b[0m         \u001b[0;34m\"valid_returns\"\u001b[0m \u001b[0;34m:\u001b[0m \u001b[0mdata_file\u001b[0m\u001b[0;34m[\u001b[0m\u001b[0;34m\"valid_returns\"\u001b[0m\u001b[0;34m]\u001b[0m\u001b[0;34m,\u001b[0m\u001b[0;34m\u001b[0m\u001b[0;34m\u001b[0m\u001b[0m\n\u001b[0;32m----> 8\u001b[0;31m         \u001b[0;34m\"train_episodes\"\u001b[0m \u001b[0;34m:\u001b[0m \u001b[0mdata_file\u001b[0m\u001b[0;34m[\u001b[0m\u001b[0;34m\"train_episodes\"\u001b[0m\u001b[0;34m]\u001b[0m\u001b[0;34m,\u001b[0m\u001b[0;34m\u001b[0m\u001b[0;34m\u001b[0m\u001b[0m\n\u001b[0m\u001b[1;32m      9\u001b[0m         \u001b[0;34m\"valid_episodes\"\u001b[0m \u001b[0;34m:\u001b[0m \u001b[0mdata_file\u001b[0m\u001b[0;34m[\u001b[0m\u001b[0;34m\"valid_episodes\"\u001b[0m\u001b[0;34m]\u001b[0m\u001b[0;34m,\u001b[0m\u001b[0;34m\u001b[0m\u001b[0;34m\u001b[0m\u001b[0m\n\u001b[1;32m     10\u001b[0m     }\n",
      "\u001b[0;32m~/.local/lib/python3.8/site-packages/numpy/lib/npyio.py\u001b[0m in \u001b[0;36m__getitem__\u001b[0;34m(self, key)\u001b[0m\n\u001b[1;32m    257\u001b[0m                 \u001b[0;32mreturn\u001b[0m \u001b[0mself\u001b[0m\u001b[0;34m.\u001b[0m\u001b[0mzip\u001b[0m\u001b[0;34m.\u001b[0m\u001b[0mread\u001b[0m\u001b[0;34m(\u001b[0m\u001b[0mkey\u001b[0m\u001b[0;34m)\u001b[0m\u001b[0;34m\u001b[0m\u001b[0;34m\u001b[0m\u001b[0m\n\u001b[1;32m    258\u001b[0m         \u001b[0;32melse\u001b[0m\u001b[0;34m:\u001b[0m\u001b[0;34m\u001b[0m\u001b[0;34m\u001b[0m\u001b[0m\n\u001b[0;32m--> 259\u001b[0;31m             \u001b[0;32mraise\u001b[0m \u001b[0mKeyError\u001b[0m\u001b[0;34m(\u001b[0m\u001b[0;34m\"%s is not a file in the archive\"\u001b[0m \u001b[0;34m%\u001b[0m \u001b[0mkey\u001b[0m\u001b[0;34m)\u001b[0m\u001b[0;34m\u001b[0m\u001b[0;34m\u001b[0m\u001b[0m\n\u001b[0m\u001b[1;32m    260\u001b[0m \u001b[0;34m\u001b[0m\u001b[0m\n\u001b[1;32m    261\u001b[0m \u001b[0;34m\u001b[0m\u001b[0m\n",
      "\u001b[0;31mKeyError\u001b[0m: 'train_episodes is not a file in the archive'"
     ]
    }
   ],
   "source": [
    "import numpy as np\n",
    "\n",
    "with np.load(\"../maml-randomShapeMaze/results.npz\") as data_file:\n",
    "    logs = {\n",
    "        \"tasks\": data_file[\"tasks\"],\n",
    "        \"train_returns\" : data_file[\"train_returns\"],\n",
    "        \"valid_returns\" : data_file[\"valid_returns\"],\n",
    "        # \"train_episodes\" : data_file[\"train_episodes\"],\n",
    "        # \"valid_episodes\" : data_file[\"valid_episodes\"],\n",
    "    }"
   ]
  },
  {
   "cell_type": "code",
   "execution_count": 4,
   "metadata": {},
   "outputs": [
    {
     "output_type": "display_data",
     "data": {
      "text/plain": "(400, 50, 50)"
     },
     "metadata": {}
    },
    {
     "output_type": "display_data",
     "data": {
      "text/plain": "(400, 20)"
     },
     "metadata": {}
    },
    {
     "output_type": "display_data",
     "data": {
      "text/plain": "(400, 20)"
     },
     "metadata": {}
    }
   ],
   "source": [
    "display(logs[\"tasks\"].shape)\n",
    "display(logs[\"train_returns\"].shape)\n",
    "display(logs[\"valid_returns\"].shape)"
   ]
  },
  {
   "cell_type": "code",
   "execution_count": 5,
   "metadata": {},
   "outputs": [
    {
     "output_type": "display_data",
     "data": {
      "text/plain": "array([[1, 1, 1, ..., 1, 1, 1],\n       [1, 0, 0, ..., 0, 0, 1],\n       [1, 0, 0, ..., 0, 0, 1],\n       ...,\n       [1, 1, 1, ..., 0, 0, 1],\n       [1, 0, 0, ..., 0, 0, 1],\n       [1, 1, 1, ..., 1, 1, 1]], dtype=uint8)"
     },
     "metadata": {}
    },
    {
     "output_type": "display_data",
     "data": {
      "text/plain": "array([ -45.560005 ,   -3.9799998,   -6.95     ,  -23.78     ,\n        -13.879999 , -200.       ,   -6.949999 ,   -8.93     ,\n        -10.909999 ,  -13.879999 ,  -35.660004 ,  -21.8      ,\n        -11.9      ,  -17.84     ,   -6.949999 ,  -29.720001 ,\n         -9.92     , -200.       ,  -60.41001  ,  -21.8      ],\n      dtype=float32)"
     },
     "metadata": {}
    },
    {
     "output_type": "display_data",
     "data": {
      "text/plain": "array([ -27.739998 ,  -13.879999 ,  -15.859999 ,  -10.91     ,\n        -15.859999 , -200.       ,   -3.9799995,  -13.879999 ,\n        -22.789997 ,   -5.96     ,  -44.57001  ,  -10.91     ,\n        -22.789999 ,  -25.759998 ,  -26.749998 ,  -13.879999 ,\n        -35.660004 , -200.       ,   -5.959999 ,  -45.560005 ],\n      dtype=float32)"
     },
     "metadata": {}
    }
   ],
   "source": [
    "display(logs[\"tasks\"][0])\n",
    "display(logs[\"train_returns\"][0,:])\n",
    "display(logs[\"valid_returns\"][0,:])"
   ]
  },
  {
   "cell_type": "code",
   "execution_count": 6,
   "metadata": {},
   "outputs": [
    {
     "output_type": "display_data",
     "data": {
      "text/plain": "<Figure size 432x432 with 1 Axes>",
      "image/svg+xml": "<?xml version=\"1.0\" encoding=\"utf-8\" standalone=\"no\"?>\n<!DOCTYPE svg PUBLIC \"-//W3C//DTD SVG 1.1//EN\"\n  \"http://www.w3.org/Graphics/SVG/1.1/DTD/svg11.dtd\">\n<!-- Created with matplotlib (https://matplotlib.org/) -->\n<svg height=\"357.775744pt\" version=\"1.1\" viewBox=\"0 0 360.285 357.775744\" width=\"360.285pt\" xmlns=\"http://www.w3.org/2000/svg\" xmlns:xlink=\"http://www.w3.org/1999/xlink\">\n <metadata>\n  <rdf:RDF xmlns:cc=\"http://creativecommons.org/ns#\" xmlns:dc=\"http://purl.org/dc/elements/1.1/\" xmlns:rdf=\"http://www.w3.org/1999/02/22-rdf-syntax-ns#\">\n   <cc:Work>\n    <dc:type rdf:resource=\"http://purl.org/dc/dcmitype/StillImage\"/>\n    <dc:date>2020-12-30T20:49:40.314266</dc:date>\n    <dc:format>image/svg+xml</dc:format>\n    <dc:creator>\n     <cc:Agent>\n      <dc:title>Matplotlib v3.3.3, https://matplotlib.org/</dc:title>\n     </cc:Agent>\n    </dc:creator>\n   </cc:Work>\n  </rdf:RDF>\n </metadata>\n <defs>\n  <style type=\"text/css\">*{stroke-linecap:butt;stroke-linejoin:round;}</style>\n </defs>\n <g id=\"figure_1\">\n  <g id=\"patch_1\">\n   <path d=\"M 0 357.775744 \nL 360.285 357.775744 \nL 360.285 0 \nL 0 0 \nz\n\" style=\"fill:none;\"/>\n  </g>\n  <g id=\"axes_1\">\n   <g id=\"patch_2\">\n    <path d=\"M 26.925 333.897619 \nL 353.085 333.897619 \nL 353.085 7.737619 \nL 26.925 7.737619 \nz\n\" style=\"fill:#ffffff;\"/>\n   </g>\n   <g clip-path=\"url(#p961daca4c6)\">\n    <image height=\"327\" id=\"image927a0bed4d\" transform=\"scale(1 -1)translate(0 -327)\" width=\"327\" x=\"26.925\" xlink:href=\"data:image/png;base64,\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\" y=\"-6.897619\"/>\n   </g>\n   <g id=\"matplotlib.axis_1\">\n    <g id=\"xtick_1\">\n     <g id=\"line2d_1\">\n      <defs>\n       <path d=\"M 0 0 \nL 0 3.5 \n\" id=\"mc371ea1105\" style=\"stroke:#000000;stroke-width:0.8;\"/>\n      </defs>\n      <g>\n       <use style=\"stroke:#000000;stroke-width:0.8;\" x=\"30.1866\" xlink:href=\"#mc371ea1105\" y=\"333.897619\"/>\n      </g>\n     </g>\n     <g id=\"text_1\">\n      <!-- 0 -->\n      <g transform=\"translate(27.00535 348.496056)scale(0.1 -0.1)\">\n       <defs>\n        <path d=\"M 31.78125 66.40625 \nQ 24.171875 66.40625 20.328125 58.90625 \nQ 16.5 51.421875 16.5 36.375 \nQ 16.5 21.390625 20.328125 13.890625 \nQ 24.171875 6.390625 31.78125 6.390625 \nQ 39.453125 6.390625 43.28125 13.890625 \nQ 47.125 21.390625 47.125 36.375 \nQ 47.125 51.421875 43.28125 58.90625 \nQ 39.453125 66.40625 31.78125 66.40625 \nz\nM 31.78125 74.21875 \nQ 44.046875 74.21875 50.515625 64.515625 \nQ 56.984375 54.828125 56.984375 36.375 \nQ 56.984375 17.96875 50.515625 8.265625 \nQ 44.046875 -1.421875 31.78125 -1.421875 \nQ 19.53125 -1.421875 13.0625 8.265625 \nQ 6.59375 17.96875 6.59375 36.375 \nQ 6.59375 54.828125 13.0625 64.515625 \nQ 19.53125 74.21875 31.78125 74.21875 \nz\n\" id=\"DejaVuSans-48\"/>\n       </defs>\n       <use xlink:href=\"#DejaVuSans-48\"/>\n      </g>\n     </g>\n    </g>\n    <g id=\"xtick_2\">\n     <g id=\"line2d_2\">\n      <g>\n       <use style=\"stroke:#000000;stroke-width:0.8;\" x=\"95.4186\" xlink:href=\"#mc371ea1105\" y=\"333.897619\"/>\n      </g>\n     </g>\n     <g id=\"text_2\">\n      <!-- 10 -->\n      <g transform=\"translate(89.0561 348.496056)scale(0.1 -0.1)\">\n       <defs>\n        <path d=\"M 12.40625 8.296875 \nL 28.515625 8.296875 \nL 28.515625 63.921875 \nL 10.984375 60.40625 \nL 10.984375 69.390625 \nL 28.421875 72.90625 \nL 38.28125 72.90625 \nL 38.28125 8.296875 \nL 54.390625 8.296875 \nL 54.390625 0 \nL 12.40625 0 \nz\n\" id=\"DejaVuSans-49\"/>\n       </defs>\n       <use xlink:href=\"#DejaVuSans-49\"/>\n       <use x=\"63.623047\" xlink:href=\"#DejaVuSans-48\"/>\n      </g>\n     </g>\n    </g>\n    <g id=\"xtick_3\">\n     <g id=\"line2d_3\">\n      <g>\n       <use style=\"stroke:#000000;stroke-width:0.8;\" x=\"160.6506\" xlink:href=\"#mc371ea1105\" y=\"333.897619\"/>\n      </g>\n     </g>\n     <g id=\"text_3\">\n      <!-- 20 -->\n      <g transform=\"translate(154.2881 348.496056)scale(0.1 -0.1)\">\n       <defs>\n        <path d=\"M 19.1875 8.296875 \nL 53.609375 8.296875 \nL 53.609375 0 \nL 7.328125 0 \nL 7.328125 8.296875 \nQ 12.9375 14.109375 22.625 23.890625 \nQ 32.328125 33.6875 34.8125 36.53125 \nQ 39.546875 41.84375 41.421875 45.53125 \nQ 43.3125 49.21875 43.3125 52.78125 \nQ 43.3125 58.59375 39.234375 62.25 \nQ 35.15625 65.921875 28.609375 65.921875 \nQ 23.96875 65.921875 18.8125 64.3125 \nQ 13.671875 62.703125 7.8125 59.421875 \nL 7.8125 69.390625 \nQ 13.765625 71.78125 18.9375 73 \nQ 24.125 74.21875 28.421875 74.21875 \nQ 39.75 74.21875 46.484375 68.546875 \nQ 53.21875 62.890625 53.21875 53.421875 \nQ 53.21875 48.921875 51.53125 44.890625 \nQ 49.859375 40.875 45.40625 35.40625 \nQ 44.1875 33.984375 37.640625 27.21875 \nQ 31.109375 20.453125 19.1875 8.296875 \nz\n\" id=\"DejaVuSans-50\"/>\n       </defs>\n       <use xlink:href=\"#DejaVuSans-50\"/>\n       <use x=\"63.623047\" xlink:href=\"#DejaVuSans-48\"/>\n      </g>\n     </g>\n    </g>\n    <g id=\"xtick_4\">\n     <g id=\"line2d_4\">\n      <g>\n       <use style=\"stroke:#000000;stroke-width:0.8;\" x=\"225.8826\" xlink:href=\"#mc371ea1105\" y=\"333.897619\"/>\n      </g>\n     </g>\n     <g id=\"text_4\">\n      <!-- 30 -->\n      <g transform=\"translate(219.5201 348.496056)scale(0.1 -0.1)\">\n       <defs>\n        <path d=\"M 40.578125 39.3125 \nQ 47.65625 37.796875 51.625 33 \nQ 55.609375 28.21875 55.609375 21.1875 \nQ 55.609375 10.40625 48.1875 4.484375 \nQ 40.765625 -1.421875 27.09375 -1.421875 \nQ 22.515625 -1.421875 17.65625 -0.515625 \nQ 12.796875 0.390625 7.625 2.203125 \nL 7.625 11.71875 \nQ 11.71875 9.328125 16.59375 8.109375 \nQ 21.484375 6.890625 26.8125 6.890625 \nQ 36.078125 6.890625 40.9375 10.546875 \nQ 45.796875 14.203125 45.796875 21.1875 \nQ 45.796875 27.640625 41.28125 31.265625 \nQ 36.765625 34.90625 28.71875 34.90625 \nL 20.21875 34.90625 \nL 20.21875 43.015625 \nL 29.109375 43.015625 \nQ 36.375 43.015625 40.234375 45.921875 \nQ 44.09375 48.828125 44.09375 54.296875 \nQ 44.09375 59.90625 40.109375 62.90625 \nQ 36.140625 65.921875 28.71875 65.921875 \nQ 24.65625 65.921875 20.015625 65.03125 \nQ 15.375 64.15625 9.8125 62.3125 \nL 9.8125 71.09375 \nQ 15.4375 72.65625 20.34375 73.4375 \nQ 25.25 74.21875 29.59375 74.21875 \nQ 40.828125 74.21875 47.359375 69.109375 \nQ 53.90625 64.015625 53.90625 55.328125 \nQ 53.90625 49.265625 50.4375 45.09375 \nQ 46.96875 40.921875 40.578125 39.3125 \nz\n\" id=\"DejaVuSans-51\"/>\n       </defs>\n       <use xlink:href=\"#DejaVuSans-51\"/>\n       <use x=\"63.623047\" xlink:href=\"#DejaVuSans-48\"/>\n      </g>\n     </g>\n    </g>\n    <g id=\"xtick_5\">\n     <g id=\"line2d_5\">\n      <g>\n       <use style=\"stroke:#000000;stroke-width:0.8;\" x=\"291.1146\" xlink:href=\"#mc371ea1105\" y=\"333.897619\"/>\n      </g>\n     </g>\n     <g id=\"text_5\">\n      <!-- 40 -->\n      <g transform=\"translate(284.7521 348.496056)scale(0.1 -0.1)\">\n       <defs>\n        <path d=\"M 37.796875 64.3125 \nL 12.890625 25.390625 \nL 37.796875 25.390625 \nz\nM 35.203125 72.90625 \nL 47.609375 72.90625 \nL 47.609375 25.390625 \nL 58.015625 25.390625 \nL 58.015625 17.1875 \nL 47.609375 17.1875 \nL 47.609375 0 \nL 37.796875 0 \nL 37.796875 17.1875 \nL 4.890625 17.1875 \nL 4.890625 26.703125 \nz\n\" id=\"DejaVuSans-52\"/>\n       </defs>\n       <use xlink:href=\"#DejaVuSans-52\"/>\n       <use x=\"63.623047\" xlink:href=\"#DejaVuSans-48\"/>\n      </g>\n     </g>\n    </g>\n   </g>\n   <g id=\"matplotlib.axis_2\">\n    <g id=\"ytick_1\">\n     <g id=\"line2d_6\">\n      <defs>\n       <path d=\"M 0 0 \nL -3.5 0 \n\" id=\"m35f0322020\" style=\"stroke:#000000;stroke-width:0.8;\"/>\n      </defs>\n      <g>\n       <use style=\"stroke:#000000;stroke-width:0.8;\" x=\"26.925\" xlink:href=\"#m35f0322020\" y=\"10.999219\"/>\n      </g>\n     </g>\n     <g id=\"text_6\">\n      <!-- 0 -->\n      <g transform=\"translate(13.5625 14.798438)scale(0.1 -0.1)\">\n       <use xlink:href=\"#DejaVuSans-48\"/>\n      </g>\n     </g>\n    </g>\n    <g id=\"ytick_2\">\n     <g id=\"line2d_7\">\n      <g>\n       <use style=\"stroke:#000000;stroke-width:0.8;\" x=\"26.925\" xlink:href=\"#m35f0322020\" y=\"76.231219\"/>\n      </g>\n     </g>\n     <g id=\"text_7\">\n      <!-- 10 -->\n      <g transform=\"translate(7.2 80.030438)scale(0.1 -0.1)\">\n       <use xlink:href=\"#DejaVuSans-49\"/>\n       <use x=\"63.623047\" xlink:href=\"#DejaVuSans-48\"/>\n      </g>\n     </g>\n    </g>\n    <g id=\"ytick_3\">\n     <g id=\"line2d_8\">\n      <g>\n       <use style=\"stroke:#000000;stroke-width:0.8;\" x=\"26.925\" xlink:href=\"#m35f0322020\" y=\"141.463219\"/>\n      </g>\n     </g>\n     <g id=\"text_8\">\n      <!-- 20 -->\n      <g transform=\"translate(7.2 145.262438)scale(0.1 -0.1)\">\n       <use xlink:href=\"#DejaVuSans-50\"/>\n       <use x=\"63.623047\" xlink:href=\"#DejaVuSans-48\"/>\n      </g>\n     </g>\n    </g>\n    <g id=\"ytick_4\">\n     <g id=\"line2d_9\">\n      <g>\n       <use style=\"stroke:#000000;stroke-width:0.8;\" x=\"26.925\" xlink:href=\"#m35f0322020\" y=\"206.695219\"/>\n      </g>\n     </g>\n     <g id=\"text_9\">\n      <!-- 30 -->\n      <g transform=\"translate(7.2 210.494438)scale(0.1 -0.1)\">\n       <use xlink:href=\"#DejaVuSans-51\"/>\n       <use x=\"63.623047\" xlink:href=\"#DejaVuSans-48\"/>\n      </g>\n     </g>\n    </g>\n    <g id=\"ytick_5\">\n     <g id=\"line2d_10\">\n      <g>\n       <use style=\"stroke:#000000;stroke-width:0.8;\" x=\"26.925\" xlink:href=\"#m35f0322020\" y=\"271.927219\"/>\n      </g>\n     </g>\n     <g id=\"text_10\">\n      <!-- 40 -->\n      <g transform=\"translate(7.2 275.726438)scale(0.1 -0.1)\">\n       <use xlink:href=\"#DejaVuSans-52\"/>\n       <use x=\"63.623047\" xlink:href=\"#DejaVuSans-48\"/>\n      </g>\n     </g>\n    </g>\n   </g>\n   <g id=\"patch_3\">\n    <path d=\"M 26.925 333.897619 \nL 26.925 7.737619 \n\" style=\"fill:none;stroke:#000000;stroke-linecap:square;stroke-linejoin:miter;stroke-width:0.8;\"/>\n   </g>\n   <g id=\"patch_4\">\n    <path d=\"M 353.085 333.897619 \nL 353.085 7.737619 \n\" style=\"fill:none;stroke:#000000;stroke-linecap:square;stroke-linejoin:miter;stroke-width:0.8;\"/>\n   </g>\n   <g id=\"patch_5\">\n    <path d=\"M 26.925 333.897619 \nL 353.085 333.897619 \n\" style=\"fill:none;stroke:#000000;stroke-linecap:square;stroke-linejoin:miter;stroke-width:0.8;\"/>\n   </g>\n   <g id=\"patch_6\">\n    <path d=\"M 26.925 7.737619 \nL 353.085 7.737619 \n\" style=\"fill:none;stroke:#000000;stroke-linecap:square;stroke-linejoin:miter;stroke-width:0.8;\"/>\n   </g>\n  </g>\n </g>\n <defs>\n  <clipPath id=\"p961daca4c6\">\n   <rect height=\"326.16\" width=\"326.16\" x=\"26.925\" y=\"7.737619\"/>\n  </clipPath>\n </defs>\n</svg>\n",
      "image/png": "[encoded data removed]"
     },
     "metadata": {
      "needs_background": "light"
     }
    }
   ],
   "source": [
    "import matplotlib.pyplot as plt\n",
    "\n",
    "x = logs[\"tasks\"][0]\n",
    "fig = plt.figure(figsize=(6,6))\n",
    "plt.imshow(x)\n",
    "plt.show()"
   ]
  },
  {
   "cell_type": "code",
   "execution_count": 10,
   "metadata": {},
   "outputs": [
    {
     "output_type": "execute_result",
     "data": {
      "text/plain": [
       "array([ -45.560005 ,   -3.9799998,   -6.95     ,  -23.78     ,\n",
       "        -13.879999 , -200.       ,   -6.949999 ,   -8.93     ,\n",
       "        -10.909999 ,  -13.879999 ,  -35.660004 ,  -21.8      ,\n",
       "        -11.9      ,  -17.84     ,   -6.949999 ,  -29.720001 ,\n",
       "         -9.92     , -200.       ,  -60.41001  ,  -21.8      ],\n",
       "      dtype=float32)"
      ]
     },
     "metadata": {},
     "execution_count": 10
    }
   ],
   "source": [
    "logs[\"train_returns\"][0]"
   ]
  }
 ],
 "metadata": {
  "kernelspec": {
   "display_name": "Python 3",
   "language": "python",
   "name": "python3"
  },
  "language_info": {
   "codemirror_mode": {
    "name": "ipython",
    "version": 3
   },
   "file_extension": ".py",
   "mimetype": "text/x-python",
   "name": "python",
   "nbconvert_exporter": "python",
   "pygments_lexer": "ipython3",
   "version": "3.8.5-final"
  }
 },
 "nbformat": 4,
 "nbformat_minor": 4
}